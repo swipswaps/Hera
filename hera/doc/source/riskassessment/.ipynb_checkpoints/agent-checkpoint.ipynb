{
 "cells": [
  {
   "cell_type": "markdown",
   "metadata": {},
   "source": [
    "# The Agent Object\n",
    "\n",
    "The package holds properties of different hazardous chemicals.\n",
    "The agent object provides usefull functions that use these properties for risk assessments.\n",
    "Any new risk assessment should first make a new instance of the object with the properties of the requested agent.\n",
    "\n",
    "## Adding A New Agent\n",
    "\n",
    "First, we will demonstrate how to add a new agent. This can be done using riskDatalayer.\n",
    "We have to define the agent name and its description.\n",
    "An example of an addition of a fictive agent is shown below.\n",
    "The agent is added by default to a project called \"AgentsCollection\", but other names may be given.\n",
    "The agent may also be added to the public database."
   ]
  },
  {
   "cell_type": "code",
   "execution_count": 1,
   "metadata": {},
   "outputs": [],
   "source": [
    "from hera import riskassessment as risk\n",
    "datalayer = risk.riskDatalayer()\n",
    "Agent = \"ExampleAgent\"\n",
    "description = {\n",
    "    \"effectParameters\" : {\n",
    "        \"tenbergeCoefficient\" : 1.5\n",
    "    },\n",
    "    \"effects\" : {\n",
    "        \"RegularPopulation\":{\n",
    "            \"type\": \"Lognormal10\",\n",
    "            \"calculator\":{\n",
    "                \"TenBerge\" : {}\n",
    "            },\n",
    "            \"parameters\":{\n",
    "                \"type\": \"Lognormal10DoseResponse\",\n",
    "                \"levels\":[\"Light\",\"Severe\"],\n",
    "                \"parameters\":{\n",
    "                \"Light\": {\n",
    "                    \"TL_50\" : 10,\n",
    "                    \"sigma\": 0.5\n",
    "                },\n",
    "                    \"Severe\": {\n",
    "                    \"TL_50\" : 1,\n",
    "                    \"sigma\": 0.5\n",
    "                }\n",
    "            }\n",
    "            }\n",
    "        },\n",
    "        \"PAC1min\":{\n",
    "            \"type\":\"Threshold\",\n",
    "            \"calculator\":{\n",
    "                \"MaxConcentration\" : {\"sampling\":\"1min\"}\n",
    "            },\n",
    "            \"parameters\":{\n",
    "                \"type\":\"Threshold\",\n",
    "                \"levels\":[\"1\",\"2\"],\n",
    "                \"parameters\":{\n",
    "                    \"1\":{\"threshold\":\"1*mg/m**3\"},\n",
    "                    \"2\":{\"threshold\":\"2*mg/m**3\"},\n",
    "                }\n",
    "            }\n",
    "        }\n",
    "    }\n",
    "}\n",
    "#datalayer.addAgent(Agent=Agent,description=description)\n",
    "#datalayer.addAgent(Agent=Agent,description=description,projectName=\"otheName\") adding the agent to another projec\n",
    "#datalayer.addAgent(Agent=Agent,description=description, public=True) adding the agent to the public database."
   ]
  },
  {
   "cell_type": "markdown",
   "metadata": {},
   "source": [
    "As demonstrated above, each agent has several kinds of effect types, which define different kinds of injuries.\n",
    "For example, the fictive agent above may use Ten-Berge model in order to assess light and severe injuries, or, on the other hand,\n",
    "calculate the areas in which the concentration during a 1 minute sampling surpass the defined PAC levels.\n",
    "When using the agent, one needs to decide which kind of injury type should be used.\n",
    "\n",
    "As of today, three types of effects are available: Lognormal10, Exponential and Threshold.\n",
    "Lognormal10 requries values for the parameters \"TL_50\" and \"sigma\" for each injury level.\n",
    "Exponential requries value for the parameter \"k\" for each injury level.\n",
    "Threshold requiers value for the parameter \"threshold\" for each injury level.\n",
    "\n",
    "Lognormal and exponential distributions of injury levels may use one of two calculators: \"Haber\" and \"TenBerge\".\n",
    "The threshold should use \"MaxConcentration\". A sampling time must be given to this calculator, as presented above.\n",
    "\n",
    "## Calculating the toxic load\n",
    "\n",
    "Some agents use the Ten-Berge model for toxic load. For these agents, the effective toxic load in each point relative to the source may be calculated,\n",
    "using the agent's appropiate Ten-Berge coefficient. The calculation is done using a concentration field. For example, the calculation for the fictive agent is:"
   ]
  },
  {
   "cell_type": "code",
   "execution_count": 2,
   "metadata": {},
   "outputs": [
    {
     "ename": "IndexError",
     "evalue": "list index out of range",
     "output_type": "error",
     "traceback": [
      "\u001b[0;31m---------------------------------------------------------------------------\u001b[0m",
      "\u001b[0;31mIndexError\u001b[0m                                Traceback (most recent call last)",
      "\u001b[0;32m<ipython-input-2-88a055e365da>\u001b[0m in \u001b[0;36m<module>\u001b[0;34m\u001b[0m\n\u001b[1;32m      1\u001b[0m \u001b[0;32mfrom\u001b[0m \u001b[0mhera\u001b[0m \u001b[0;32mimport\u001b[0m \u001b[0mLSM\u001b[0m\u001b[0;34m\u001b[0m\u001b[0m\n\u001b[1;32m      2\u001b[0m \u001b[0msims\u001b[0m \u001b[0;34m=\u001b[0m \u001b[0mLSM\u001b[0m\u001b[0;34m.\u001b[0m\u001b[0mgetSimulations\u001b[0m\u001b[0;34m(\u001b[0m\u001b[0mprojectName\u001b[0m\u001b[0;34m=\u001b[0m\u001b[0;34m'example'\u001b[0m\u001b[0;34m)\u001b[0m\u001b[0;34m\u001b[0m\u001b[0m\n\u001b[0;32m----> 3\u001b[0;31m \u001b[0mchosen_sim\u001b[0m \u001b[0;34m=\u001b[0m \u001b[0msims\u001b[0m\u001b[0;34m[\u001b[0m\u001b[0;36m0\u001b[0m\u001b[0;34m]\u001b[0m\u001b[0;34m\u001b[0m\u001b[0m\n\u001b[0m\u001b[1;32m      4\u001b[0m \u001b[0mconcentration\u001b[0m \u001b[0;34m=\u001b[0m \u001b[0mchosen_sim\u001b[0m\u001b[0;34m.\u001b[0m\u001b[0mgetConcentration\u001b[0m\u001b[0;34m(\u001b[0m\u001b[0;34m)\u001b[0m\u001b[0;34m\u001b[0m\u001b[0m\n\u001b[1;32m      5\u001b[0m \u001b[0mAgent\u001b[0m \u001b[0;34m=\u001b[0m \u001b[0mrisk\u001b[0m\u001b[0;34m.\u001b[0m\u001b[0mAgent\u001b[0m\u001b[0;34m(\u001b[0m\u001b[0;34m\"ExampleAgent\"\u001b[0m\u001b[0;34m)\u001b[0m\u001b[0;34m\u001b[0m\u001b[0m\n",
      "\u001b[0;31mIndexError\u001b[0m: list index out of range"
     ]
    }
   ],
   "source": [
    "from hera import LSM\n",
    "sims = LSM.getSimulations(projectName='example')\n",
    "chosen_sim = sims[0]\n",
    "concentration = chosen_sim.getConcentration()\n",
    "Agent = risk.Agent(\"ExampleAgent\")\n",
    "ToxicLoad = Agent.RegularPopulation.calculateRaw(concentration,\"C\")"
   ]
  },
  {
   "cell_type": "markdown",
   "metadata": {},
   "source": [
    "## Calculating the effect\n",
    "\n",
    "The main use of the agent object is to calculate the dimensions of the affected areas for the different injury levels of the different injury types.\n",
    "This is done simply using the \"calculate\" function, that should receive a concentration field and the name of the appropiate field in the concentration xarray."
   ]
  },
  {
   "cell_type": "code",
   "execution_count": 3,
   "metadata": {},
   "outputs": [
    {
     "ename": "AttributeError",
     "evalue": "'str' object has no attribute 'RegularPopulation'",
     "output_type": "error",
     "traceback": [
      "\u001b[0;31m---------------------------------------------------------------------------\u001b[0m",
      "\u001b[0;31mAttributeError\u001b[0m                            Traceback (most recent call last)",
      "\u001b[0;32m<ipython-input-3-57099065ae47>\u001b[0m in \u001b[0;36m<module>\u001b[0;34m\u001b[0m\n\u001b[0;32m----> 1\u001b[0;31m \u001b[0mriskAreas\u001b[0m \u001b[0;34m=\u001b[0m \u001b[0mAgent\u001b[0m\u001b[0;34m.\u001b[0m\u001b[0mRegularPopulation\u001b[0m\u001b[0;34m.\u001b[0m\u001b[0mcalculate\u001b[0m\u001b[0;34m(\u001b[0m\u001b[0mconcentration\u001b[0m\u001b[0;34m,\u001b[0m \u001b[0;34m\"C\"\u001b[0m\u001b[0;34m)\u001b[0m\u001b[0;34m\u001b[0m\u001b[0m\n\u001b[0m",
      "\u001b[0;31mAttributeError\u001b[0m: 'str' object has no attribute 'RegularPopulation'"
     ]
    }
   ],
   "source": [
    "riskAreas = Agent.RegularPopulation.calculate(concentration, \"C\")"
   ]
  },
  {
   "cell_type": "markdown",
   "metadata": {},
   "source": [
    "If one desires to calculate the areas for a specific timestep of the concentration xarray, it may be done this way:"
   ]
  },
  {
   "cell_type": "code",
   "execution_count": 5,
   "metadata": {},
   "outputs": [
    {
     "ename": "AttributeError",
     "evalue": "'str' object has no attribute 'RegularPopulation'",
     "output_type": "error",
     "traceback": [
      "\u001b[0;31m---------------------------------------------------------------------------\u001b[0m",
      "\u001b[0;31mAttributeError\u001b[0m                            Traceback (most recent call last)",
      "\u001b[0;32m<ipython-input-5-59f726275a7b>\u001b[0m in \u001b[0;36m<module>\u001b[0;34m\u001b[0m\n\u001b[1;32m      2\u001b[0m \u001b[0mtime\u001b[0m \u001b[0;34m=\u001b[0m \u001b[0;34m\"2018-01-15 10:00:00\"\u001b[0m\u001b[0;34m\u001b[0m\u001b[0m\n\u001b[1;32m      3\u001b[0m \u001b[0mdesiredTime\u001b[0m \u001b[0;34m=\u001b[0m \u001b[0mpandas\u001b[0m\u001b[0;34m.\u001b[0m\u001b[0mto_datetime\u001b[0m\u001b[0;34m(\u001b[0m\u001b[0mtime\u001b[0m\u001b[0;34m)\u001b[0m\u001b[0;34m\u001b[0m\u001b[0m\n\u001b[0;32m----> 4\u001b[0;31m \u001b[0mriskAreas\u001b[0m \u001b[0;34m=\u001b[0m \u001b[0mAgent\u001b[0m\u001b[0;34m.\u001b[0m\u001b[0mRegularPopulation\u001b[0m\u001b[0;34m.\u001b[0m\u001b[0mcalculate\u001b[0m\u001b[0;34m(\u001b[0m\u001b[0mconcentration\u001b[0m\u001b[0;34m,\u001b[0m \u001b[0;34m\"C\"\u001b[0m\u001b[0;34m,\u001b[0m \u001b[0msel\u001b[0m\u001b[0;34m=\u001b[0m\u001b[0;34m{\u001b[0m\u001b[0;34m\"datetime\"\u001b[0m\u001b[0;34m:\u001b[0m\u001b[0mdesiredTime\u001b[0m\u001b[0;34m}\u001b[0m\u001b[0;34m)\u001b[0m\u001b[0;34m\u001b[0m\u001b[0m\n\u001b[0m\u001b[1;32m      5\u001b[0m \u001b[0;31m# Or, for the last time step, for example:\u001b[0m\u001b[0;34m\u001b[0m\u001b[0;34m\u001b[0m\u001b[0m\n\u001b[1;32m      6\u001b[0m \u001b[0mriskAreas\u001b[0m \u001b[0;34m=\u001b[0m \u001b[0mAgent\u001b[0m\u001b[0;34m.\u001b[0m\u001b[0mRegularPopulation\u001b[0m\u001b[0;34m.\u001b[0m\u001b[0mcalculate\u001b[0m\u001b[0;34m(\u001b[0m\u001b[0mconcentration\u001b[0m\u001b[0;34m,\u001b[0m \u001b[0;34m\"C\"\u001b[0m\u001b[0;34m,\u001b[0m \u001b[0misel\u001b[0m\u001b[0;34m=\u001b[0m\u001b[0;34m{\u001b[0m\u001b[0;34m\"datetime\"\u001b[0m\u001b[0;34m:\u001b[0m\u001b[0;34m-\u001b[0m\u001b[0;36m1\u001b[0m\u001b[0;34m}\u001b[0m\u001b[0;34m)\u001b[0m\u001b[0;34m\u001b[0m\u001b[0m\n",
      "\u001b[0;31mAttributeError\u001b[0m: 'str' object has no attribute 'RegularPopulation'"
     ]
    }
   ],
   "source": [
    "import pandas\n",
    "time = \"2018-01-15 10:00:00\"\n",
    "desiredTime = pandas.to_datetime(time)\n",
    "riskAreas = Agent.RegularPopulation.calculate(concentration, \"C\", sel={\"datetime\":desiredTime})\n",
    "# Or, for the last time step, for example:\n",
    "riskAreas = Agent.RegularPopulation.calculate(concentration, \"C\", isel={\"datetime\":-1})"
   ]
  },
  {
   "cell_type": "markdown",
   "metadata": {},
   "source": [
    "## Population \n",
    "\n",
    "The risk areas calculated in the previous section may be projected on GIS data, such as the population data which exists in hera-data."
   ]
  },
  {
   "cell_type": "code",
   "execution_count": 7,
   "metadata": {},
   "outputs": [
    {
     "ename": "NameError",
     "evalue": "name 'riskAreas' is not defined",
     "output_type": "error",
     "traceback": [
      "\u001b[0;31m---------------------------------------------------------------------------\u001b[0m",
      "\u001b[0;31mNameError\u001b[0m                                 Traceback (most recent call last)",
      "\u001b[0;32m<ipython-input-7-4f457a44a71e>\u001b[0m in \u001b[0;36m<module>\u001b[0;34m\u001b[0m\n\u001b[1;32m      5\u001b[0m \u001b[0mx_coordinate\u001b[0m \u001b[0;34m=\u001b[0m \u001b[0;36m178000\u001b[0m\u001b[0;34m\u001b[0m\u001b[0m\n\u001b[1;32m      6\u001b[0m \u001b[0my_coordinate\u001b[0m \u001b[0;34m=\u001b[0m \u001b[0;36m664000\u001b[0m\u001b[0;34m\u001b[0m\u001b[0m\n\u001b[0;32m----> 7\u001b[0;31m \u001b[0minjuryareas\u001b[0m \u001b[0;34m=\u001b[0m \u001b[0mriskAreas\u001b[0m\u001b[0;34m.\u001b[0m\u001b[0mproject\u001b[0m\u001b[0;34m(\u001b[0m\u001b[0mpopulationAreas\u001b[0m\u001b[0;34m,\u001b[0m \u001b[0mreleasePoint\u001b[0m\u001b[0;34m=\u001b[0m\u001b[0;34m[\u001b[0m\u001b[0mx_coordinate\u001b[0m\u001b[0;34m,\u001b[0m\u001b[0my_coordinate\u001b[0m\u001b[0;34m]\u001b[0m\u001b[0;34m,\u001b[0m\u001b[0mmathematical_angle\u001b[0m\u001b[0;34m=\u001b[0m\u001b[0msome_angle\u001b[0m\u001b[0;34m)\u001b[0m\u001b[0;34m\u001b[0m\u001b[0m\n\u001b[0m",
      "\u001b[0;31mNameError\u001b[0m: name 'riskAreas' is not defined"
     ]
    }
   ],
   "source": [
    "from hera import GIS\n",
    "population = GIS.population(projectName=\"Examples\")\n",
    "populationAreas = population.projectPolygonOnPopulation(Geometry=\"TelAviv\")\n",
    "some_angle = 0 # An angle between 0-360\n",
    "x_coordinate = 178000\n",
    "y_coordinate = 664000\n",
    "injuryareas = riskAreas.project(populationAreas, releasePoint=[x_coordinate,y_coordinate],mathematical_angle=some_angle)"
   ]
  },
  {
   "cell_type": "code",
   "execution_count": null,
   "metadata": {},
   "outputs": [],
   "source": []
  }
 ],
 "metadata": {
  "kernelspec": {
   "display_name": "Python 3",
   "language": "python",
   "name": "python3"
  },
  "language_info": {
   "codemirror_mode": {
    "name": "ipython",
    "version": 3
   },
   "file_extension": ".py",
   "mimetype": "text/x-python",
   "name": "python",
   "nbconvert_exporter": "python",
   "pygments_lexer": "ipython3",
   "version": "3.6.5"
  }
 },
 "nbformat": 4,
 "nbformat_minor": 4
}
