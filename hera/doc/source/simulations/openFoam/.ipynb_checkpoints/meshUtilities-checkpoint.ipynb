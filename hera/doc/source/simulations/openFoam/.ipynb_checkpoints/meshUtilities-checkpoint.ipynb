{
 "cells": [
  {
   "cell_type": "markdown",
   "metadata": {},
   "source": [
    "# Mesh utilities\n",
    "\n",
    "This tool provides several functions that helps rearranging the mesh of openFOAM simulation data,\n",
    "after it was added to the database using the pre-process tool.\n",
    "\n",
    "When initializing the tool, one should deliver the project name.\n",
    "Other available parameters are: \n",
    "\n",
    "<ul>\n",
    "<li>FilesDirectory: The path in which to save new files. Note that the path must be a full path.\n",
    "    If this parameter is not specified, new files are saved at the current working directory.</li>\n",
    "<li>databaseNameList: See projectMultiDB documentation.</li>\n",
    "<li>useAll: See projectMultiDB documentation.</li>\n",
    "<li>publicProjectName: The project name at the public database, the default name is \"postProcess\".</li>\n",
    "</ul>\n",
    "\n",
    "## Datalayer\n",
    "\n",
    "One can view existing documents as dict and load data using the next functions:"
   ]
  },
  {
   "cell_type": "code",
   "execution_count": 1,
   "metadata": {},
   "outputs": [
    {
     "name": "stderr",
     "output_type": "stream",
     "text": [
      "WARNING:root:FreeCAD not Found, cannot convert to STL\n"
     ]
    }
   ],
   "source": [
    "from hera.simulations.openfoam.postProcess.meshUtilities.datalayer import datalayer\n",
    "OPdatalayer = datalayer(projectName=\"Documentation\", databaseNameList=None, useAll=False,publicProjectName=\"postProcess\")\n",
    "# OPdatalayer.getDocumentsAsDict()\n",
    "# OPdatalayer.getDocuments()"
   ]
  },
  {
   "cell_type": "markdown",
   "metadata": {},
   "source": [
    "## Analysis\n",
    "\n",
    "There is a built-in functions that rearrange slices that are perpendicular to the z axis. \n",
    "Its main advantage is that it adds the terrain height and height from terrain\n",
    "to the data. It also adds the velocity's magnitude and in the case of slices, the distance downwind.\n",
    "\n",
    "In order to demonstrate Its use, we will load data from the disk.\n",
    "Example of loading data from the database is shown in a commented line.\n",
    "We will plot the height of the terrain against the distance, as were calculated using the function."
   ]
  },
  {
   "cell_type": "code",
   "execution_count": 2,
   "metadata": {},
   "outputs": [
    {
     "data": {
      "text/plain": [
       "[<matplotlib.lines.Line2D at 0x7f4ad07c1ac8>]"
      ]
     },
     "execution_count": 2,
     "metadata": {},
     "output_type": "execute_result"
    },
    {
     "data": {
      "image/png": "[encoded data removed]",
      "text/plain": [
       "<Figure size 432x288 with 1 Axes>"
      ]
     },
     "metadata": {
      "needs_background": "light"
     },
     "output_type": "display_data"
    }
   ],
   "source": [
    "import pandas\n",
    "import matplotlib.pyplot as plt\n",
    "\n",
    "data = pandas.read_parquet(\"examples/Slice1.parquet\")\n",
    "#data = OPdatalayer.getDocuments(filter=\"Slice1\")[0].getData().compute()\n",
    "arrangedData = OPdatalayer.analysis.arrangeSlice(data=data,twoD=True)\n",
    "plt.plot(arrangedData.distance,arrangedData.terrain)"
   ]
  },
  {
   "cell_type": "markdown",
   "metadata": {},
   "source": [
    "The function's parameters are:\n",
    "\n",
    "<ul>\n",
    "<li>data: The data (as pandas DataFrame) \n",
    "<li>twoD: True if the dataframe describes a two-dimensional flow, the default is False.\n",
    "<li>xdir/ydir: If the flow's direction is against the x/y axis direction, the appropiate parameter should be True.\n",
    "<li>save:False, set to True to save the result.\n",
    "<li>path:The path in which to save the new file, the default path is the current path.\n",
    "<li>key:\"Slice\", the key name in the new hdf file.\n",
    "<li>addToDB: True/False/, wether to add the new file to the database (additional parameters for the document may be added as **kwargs)\n",
    "<li>hdfName: The name of the new file, the default is \"ArrangedSlice\".\n",
    "</ul>\n",
    "\n",
    "One may also interpulate values of a simulation in new coordinates.\n",
    "It can be usefull, for example, in order to transform openFOAM simulations results from\n",
    "the original grid to a regularized grid, \"sigma\" topography-following coordinates,\n",
    "or a grid with constant heights above the terrain.\n",
    "These are the grid types that are supported at the moment.\n",
    "The class supports two-dimension slices only.\n",
    "\n",
    "The default grid type is regularized grid, with x and z coordinates,\n",
    "and variables called \"U_x\" and \"U_z\".\n",
    "It can be achieved this way:"
   ]
  },
  {
   "cell_type": "code",
   "execution_count": 6,
   "metadata": {},
   "outputs": [
    {
     "data": {
      "text/plain": [
       "<matplotlib.collections.PathCollection at 0x7f4ac21d8780>"
      ]
     },
     "execution_count": 6,
     "metadata": {},
     "output_type": "execute_result"
    },
    {
     "data": {
      "image/png": "[encoded data removed]",
      "text/plain": [
       "<Figure size 432x288 with 1 Axes>"
      ]
     },
     "metadata": {
      "needs_background": "light"
     },
     "output_type": "display_data"
    }
   ],
   "source": [
    "dataRegular = OPdatalayer.analysis.regularizeTimeSteps(data=data)\n",
    "dataforplot = dataRegular.reset_index().query(\"x<10 and z<10\")\n",
    "#plotting the arranged grid\n",
    "plt.scatter(dataforplot.x,dataforplot.z)"
   ]
  },
  {
   "cell_type": "markdown",
   "metadata": {},
   "source": [
    "The default number of grid points in each direction is 600, but it may be changed.\n",
    "The minimum and maximum values are the minimum and maximum of the original dataframe,\n",
    "but other limits may be requested.\n",
    "\n",
    "In addition, if no time steps are requested, the function assumes that all the data\n",
    "belongs to the same time steps. Otherwise, timesteps should be handed.\n",
    "\n",
    "For example, if we wish to use other coordinates, limits, number of points, timesteps\n",
    "and variables, it can be done this way:"
   ]
  },
  {
   "cell_type": "code",
   "execution_count": 7,
   "metadata": {},
   "outputs": [],
   "source": [
    "coord1 = \"x\"\n",
    "coord2 = \"y\"\n",
    "coord1Lim = (0,10) # Min and max values for \"x\".\n",
    "coord2Lim = (0,10) # Min and max values for \"y\".\n",
    "n = (100,100) # number of grid points in x and y directions.\n",
    "timelist = [0,1]\n",
    "fieldList = [\"firstVariable\",\"secondVariable\"]\n",
    "# dataRegular = OPdatalayer.analysis.regularizeTimeSteps(data=data, fieldList=fieldList,\n",
    "#                                                     timelist=timelist,n=n,coord1=coord1,\n",
    "#                                                     coord2=coord2, coord1Lim=coord1Lim,\n",
    "#                                                     coord2Lim=coord2Lim)"
   ]
  },
  {
   "cell_type": "markdown",
   "metadata": {},
   "source": [
    "If we would like to use sigma coordinates, we have two options.\n",
    "If the dataframe has a column with the heights of the topography, it can be done like this:"
   ]
  },
  {
   "cell_type": "code",
   "execution_count": 8,
   "metadata": {},
   "outputs": [
    {
     "data": {
      "text/plain": [
       "<matplotlib.collections.PathCollection at 0x7f4ac21b87f0>"
      ]
     },
     "execution_count": 8,
     "metadata": {},
     "output_type": "execute_result"
    },
    {
     "data": {
      "image/png": "[encoded data removed]",
      "text/plain": [
       "<Figure size 432x288 with 1 Axes>"
      ]
     },
     "metadata": {
      "needs_background": "light"
     },
     "output_type": "display_data"
    }
   ],
   "source": [
    "dataSigma = OPdatalayer.analysis.regularizeTimeSteps(data=arrangedData, coordinateType=\"Sigma\")\n",
    "dataforplot = dataSigma.reset_index()\n",
    "#plotting the arranged grid\n",
    "plt.scatter(dataforplot.x,dataforplot.z)"
   ]
  },
  {
   "cell_type": "markdown",
   "metadata": {},
   "source": [
    "The function uses the original x coordinate values as x coordinate grid points, and\n",
    "creates by default 10 sigma values between 0 and 1.\n",
    "\n",
    "If the topography is not defined, the user should first build a dataframe with the topography's\n",
    "x and z coordinates values. Then, the x values of this dataframe would be used for the new,\n",
    "sigma-coordinates grid.\n",
    "\n",
    "For example, for transforming the data to sigma coordinates with a hundred sigma values,\n",
    "in the case of our example, which is the sum of two sinusoid waves:"
   ]
  },
  {
   "cell_type": "code",
   "execution_count": 9,
   "metadata": {},
   "outputs": [
    {
     "data": {
      "text/plain": [
       "<matplotlib.collections.PathCollection at 0x7f4ac212c0f0>"
      ]
     },
     "execution_count": 9,
     "metadata": {},
     "output_type": "execute_result"
    },
    {
     "data": {
      "image/png": "[encoded data removed]",
      "text/plain": [
       "<Figure size 432x288 with 1 Axes>"
      ]
     },
     "metadata": {
      "needs_background": "light"
     },
     "output_type": "display_data"
    }
   ],
   "source": [
    "import numpy\n",
    "terrain = pandas.DataFrame({\"x\":[x for x in range(200)],\"z\":[numpy.sin(x*numpy.pi/100)+0.2*numpy.sin(x*numpy.pi/20) for x in range(200)]})\n",
    "dataSigma = OPdatalayer.analysis.regularizeTimeSteps(data=data, coordinateType=\"Sigma\",terrain=terrain,n=100)\n",
    "dataforplot = dataSigma.reset_index()\n",
    "#plotting the arranged grid\n",
    "plt.scatter(dataforplot.x,dataforplot.z)"
   ]
  },
  {
   "cell_type": "markdown",
   "metadata": {},
   "source": [
    "For interpulating to a grid with constant heights above the terrain, one may induce a list of desired heights. Else,\n",
    "the interpulation is done for every 10 meters above the terrain between 0 to 500 meters."
   ]
  },
  {
   "cell_type": "code",
   "execution_count": 10,
   "metadata": {},
   "outputs": [
    {
     "data": {
      "text/plain": [
       "<matplotlib.collections.PathCollection at 0x7f4ac040def0>"
      ]
     },
     "execution_count": 10,
     "metadata": {},
     "output_type": "execute_result"
    },
    {
     "data": {
      "image/png": "[encoded data removed]",
      "text/plain": [
       "<Figure size 432x288 with 1 Axes>"
      ]
     },
     "metadata": {
      "needs_background": "light"
     },
     "output_type": "display_data"
    }
   ],
   "source": [
    "heightsList = [50,100,150]\n",
    "dataConstantHeights = OPdatalayer.analysis.regularizeTimeSteps(data=data, coordinateType=\"constantHeight\",terrain=terrain,heightsList=heightsList)\n",
    "dataforplot = dataConstantHeights.reset_index()\n",
    "#plotting the arranged grid\n",
    "plt.scatter(dataforplot.x,dataforplot.z)"
   ]
  },
  {
   "cell_type": "code",
   "execution_count": null,
   "metadata": {},
   "outputs": [],
   "source": []
  }
 ],
 "metadata": {
  "kernelspec": {
   "display_name": "Python 3",
   "language": "python",
   "name": "python3"
  },
  "language_info": {
   "codemirror_mode": {
    "name": "ipython",
    "version": 3
   },
   "file_extension": ".py",
   "mimetype": "text/x-python",
   "name": "python",
   "nbconvert_exporter": "python",
   "pygments_lexer": "ipython3",
   "version": "3.6.5"
  }
 },
 "nbformat": 4,
 "nbformat_minor": 4
}
