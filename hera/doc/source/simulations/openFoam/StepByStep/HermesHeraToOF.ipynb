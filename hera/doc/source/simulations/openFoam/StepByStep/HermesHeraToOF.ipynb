{
 "cells": [
  {
   "cell_type": "markdown",
   "metadata": {},
   "source": [
    "# Run Hermes and Hera to get new OF simulation: #"
   ]
  },
  {
   "cell_type": "markdown",
   "metadata": {},
   "source": [
    "step 1- build new run workflow configuration\n",
    "\n",
    "        create a new 'workflow.json' file with all required nodes and parameters. \n",
    "        This file will be used next to update the node templates for the run "
   ]
  },
  {
   "cell_type": "markdown",
   "metadata": {},
   "source": [
    "step 2- run Hermes [Python 3]\n",
    "\n",
    "    Expand\n",
    "        Two arguments are essential and two are optional:\n",
    "        1) templatePath:  file name or fullpath to the workflow json file\n",
    "        2)  newTemplatePath: the given file name or fullpath for the new expanded json that will be created\n",
    "        optional:\n",
    "        3) projectName. it will create and add a new document with this projectName (and other parameters) to the DB\n",
    "        4) parametersPath: a path to additional external file with parameters (need to check if still working or needed) \n",
    "    \n",
    "    Build\n",
    "        Two arguments are essential and more are optional (see hermes documentation):\n",
    "        1) templatePath:  file name or fullpath to the workflow TemplatePath (from the expand newTemplatePath)\n",
    "        2)  pythonPath: file name or fullpath to the python file to be build\n",
    "        \n",
    "        ** TEMP CORECTION **: should replace the import copyDirectory in the .py file to-\n",
    "                              \"from hermes.Resources.executers.fileSystemExecuter import copyDirectory \"\n",
    "        \n",
    "        \n",
    "    Execute\n",
    "        one argument needed:\n",
    "        1) pythonPath: file name or fullpath to the python file from build\n",
    "        \n",
    "    \n",
    "        \n",
    "For example:"
   ]
  },
  {
   "cell_type": "raw",
   "metadata": {},
   "source": [
    "hermes-Workflow expand 'workflow.json' expandedworkflow.json 'LESDrops'\n",
    "hermes-Workflow buildPython CopyDirExpanded.json myPython.py\n",
    "hermes-Workflow executeLuigi myPython"
   ]
  },
  {
   "cell_type": "markdown",
   "metadata": {},
   "source": [
    "Step 3- run OF simulation [Python 2]*\n",
    "\n",
    "        Use your local method to run OF simulation\n",
    "        for example: ./AllrunNew\n",
    "        \n",
    "        *To change Python enviromet run the command 'source of.local' at your home directory"
   ]
  },
  {
   "cell_type": "markdown",
   "metadata": {},
   "source": [
    "Step 4- build new pipeline configuration\n",
    "\n",
    "        create pipeline json with all required parameters (filters, timesteps, format etc.) for your simulation"
   ]
  },
  {
   "cell_type": "markdown",
   "metadata": {},
   "source": [
    "step 5- run hera [python 2]\n",
    "\n",
    "    execute\n",
    "        One argument is essential and three are optional:\n",
    "        1) JSONpath: file name or fullpath to the pipeline json file\n",
    "        optional:\n",
    "        2) tsBlockNum: the number of time steps will be saved into single file. default is 100\n",
    "        3) caseType: 'Decomposed Case' for parallel cases or 'Reconstructed Case' for single processor cases. default is 'Decomposed Case'.\n",
    "        4) servername: a connection string to paraview server.default is None (which means work locally).\n",
    "        \n",
    "    load\n",
    "        Two arguments are essential:\n",
    "        1) JSONpath: the same jsan as in the execute\n",
    "        2) projecName: must be the same projectName given in the Hermes section\n",
    "    \n",
    "for example:"
   ]
  },
  {
   "cell_type": "raw",
   "metadata": {},
   "source": [
    "hera-OpenFOAM executePipeline LESDrops1_pipeline.json\n",
    "hera-OpenFOAM load LESDrops1_pipeline.json LESDrops"
   ]
  },
  {
   "cell_type": "code",
   "execution_count": null,
   "metadata": {},
   "outputs": [],
   "source": []
  }
 ],
 "metadata": {
  "kernelspec": {
   "display_name": "Python 3",
   "language": "python",
   "name": "python3"
  },
  "language_info": {
   "codemirror_mode": {
    "name": "ipython",
    "version": 3
   },
   "file_extension": ".py",
   "mimetype": "text/x-python",
   "name": "python",
   "nbconvert_exporter": "python",
   "pygments_lexer": "ipython3",
   "version": "3.6.5"
  }
 },
 "nbformat": 4,
 "nbformat_minor": 4
}
