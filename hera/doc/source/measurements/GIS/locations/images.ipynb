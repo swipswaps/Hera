{
 "cells": [
  {
   "cell_type": "markdown",
   "metadata": {},
   "source": [
    "# Images\n",
    "\n",
    "This tool helps managing images that are related to GIS properties, such as coordinates.\n",
    "\n",
    "## Datalayer\n",
    "\n",
    "When GIS images are loaded to the database, the coordinates of the exterior of the images must be defined.\n",
    "The images are loaded this way:"
   ]
  },
  {
   "cell_type": "code",
   "execution_count": 1,
   "metadata": {},
   "outputs": [
    {
     "name": "stderr",
     "output_type": "stream",
     "text": [
      "WARNING:root:FreeCAD not Found, cannot convert to STL\n"
     ]
    }
   ],
   "source": [
    "from hera.measurements.GIS.locations.image import datalayer as imageDatalayer\n",
    "image = imageDatalayer(projectName=\"Documentation\", databaseNameList=None, useAll=False,publicProjectName=\"Images\")\n",
    "path = \"/home/ofir/Development/pyhera/hera/doc/source/measurements/GIS/locations/examples/Haifa.jpg\" # The image's path\n",
    "location = \"Haifa\" # The image's location\n",
    "extents = [193000, 218500,731000,763000] # coordinates [left, right, bottom, up]\n",
    "\n",
    "#image.load(path=path, imageName=location, extents=extents)"
   ]
  },
  {
   "cell_type": "markdown",
   "metadata": {},
   "source": [
    "The list of all existing GIS images may be found this way:"
   ]
  },
  {
   "cell_type": "code",
   "execution_count": 2,
   "metadata": {},
   "outputs": [
    {
     "data": {
      "text/plain": [
       "{'documents': [{'_cls': 'Metadata.Measurements',\n",
       "   'projectName': 'Documentation',\n",
       "   'desc': {'imageName': 'Haifa',\n",
       "    'xmin': 193000,\n",
       "    'xmax': 218500,\n",
       "    'ymin': 731000,\n",
       "    'ymax': 763000},\n",
       "   'type': 'GIS',\n",
       "   'resource': '/home/ofir/Projects/2020/GIS/Haifa.jpg',\n",
       "   'dataFormat': 'image'}]}"
      ]
     },
     "execution_count": 2,
     "metadata": {},
     "output_type": "execute_result"
    }
   ],
   "source": [
    "image.getMeasurementsDocumentsAsDict(type=\"GIS\",dataFormat=\"image\")"
   ]
  },
  {
   "cell_type": "markdown",
   "metadata": {},
   "source": [
    "## Presentation layer\n",
    "\n",
    "Saved images may be easily plotted using the tool's presentation layer."
   ]
  },
  {
   "cell_type": "code",
   "execution_count": 3,
   "metadata": {},
   "outputs": [],
   "source": [
    "#image.presentation.plot(imageName=location)"
   ]
  }
 ],
 "metadata": {
  "kernelspec": {
   "display_name": "Python 3",
   "language": "python",
   "name": "python3"
  },
  "language_info": {
   "codemirror_mode": {
    "name": "ipython",
    "version": 3
   },
   "file_extension": ".py",
   "mimetype": "text/x-python",
   "name": "python",
   "nbconvert_exporter": "python",
   "pygments_lexer": "ipython3",
   "version": "3.6.5"
  }
 },
 "nbformat": 4,
 "nbformat_minor": 4
}
