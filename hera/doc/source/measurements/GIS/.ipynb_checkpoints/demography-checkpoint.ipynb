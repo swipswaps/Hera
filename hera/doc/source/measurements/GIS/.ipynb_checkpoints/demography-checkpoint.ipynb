{
 "cells": [
  {
   "cell_type": "markdown",
   "metadata": {},
   "source": [
    "# Demography\n",
    "\n",
    "The demography tool helps managing GIS data which contains polygons and data about the population inside them.\n",
    "As of today, the tool supports data in geopandas dataframe format.\n",
    "\n",
    "When initializing the tool, one should deliver the project name.\n",
    "Other available parameters are: \n",
    "\n",
    "<ul>\n",
    "<li>databaseNameList: See projectMultiDB documentation.</li>\n",
    "<li>useAll: See projectMultiDB documentation.</li>\n",
    "<li>publicProjectName: The project name at the public database, the default name is \"Demography\".</li>\n",
    "<li>Source: The source of the data, which is defined at the config document. The defaul\n",
    "    source is \"Lamas\", which corresponds to the data which is loaded when initializing hera-data.</li>\n",
    "</ul>\n",
    "\n",
    "The default config document is:"
   ]
  },
  {
   "cell_type": "code",
   "execution_count": 2,
   "metadata": {},
   "outputs": [
    {
     "data": {
      "text/plain": [
       "{'source': 'Lamas',\n",
       " 'units': 'WGS84',\n",
       " 'populationTypes': {'All': 'total_pop',\n",
       "  'Children': 'age_0_14',\n",
       "  'Youth': 'age_15_19',\n",
       "  'YoungAdults': 'age_20_29',\n",
       "  'Adults': 'age_30_64',\n",
       "  'Elderly': 'age_65_up'}}"
      ]
     },
     "execution_count": 2,
     "metadata": {},
     "output_type": "execute_result"
    }
   ],
   "source": [
    "from hera.measurements.GIS.demography import datalayer as demoDatalayer\n",
    "\n",
    "demography = demoDatalayer(projectName=\"Demo\", databaseNameList=None, useAll=False,publicProjectName=\"Demography\")\n",
    "demography.getConfig()"
   ]
  },
  {
   "cell_type": "markdown",
   "metadata": {},
   "source": [
    "The source coresponds to the data which is loaded from hera-data, and \"units\" are its units. The populationTypes corresponds between easy-to-use names and column names in the source data. \n",
    "These parameters can be changed using the function setConfig. Othe parameters can be induced to the config document using this function as well.\n",
    "\n",
    "## Datalayer\n",
    "\n",
    "The main use of the datalayer is to load the source data for a specific desired area.\n",
    "The desired area may be a new shapely polygon or an existing polygon in the database. When using an existing polygon we deliver a name and a project name to search in. \n",
    "The name may be a name of a saved Shape in the database or a name used as a CutName when cutting an area for a new document. \n",
    "In this example, we already have a document whose CutName is “Example” in the database.\n",
    "\n",
    "The default full source data is the one defined as the source at the config document. Other dataframes can be delivered using the parameter \"Data\",\n",
    "as demonstrated at the analysis section."
   ]
  },
  {
   "cell_type": "code",
   "execution_count": 10,
   "metadata": {},
   "outputs": [
    {
     "data": {
      "text/html": [
       "<div>\n",
       "<style scoped>\n",
       "    .dataframe tbody tr th:only-of-type {\n",
       "        vertical-align: middle;\n",
       "    }\n",
       "\n",
       "    .dataframe tbody tr th {\n",
       "        vertical-align: top;\n",
       "    }\n",
       "\n",
       "    .dataframe thead th {\n",
       "        text-align: right;\n",
       "    }\n",
       "</style>\n",
       "<table border=\"1\" class=\"dataframe\">\n",
       "  <thead>\n",
       "    <tr style=\"text-align: right;\">\n",
       "      <th></th>\n",
       "      <th>index</th>\n",
       "      <th>geometry</th>\n",
       "      <th>areaFraction</th>\n",
       "      <th>total_pop</th>\n",
       "    </tr>\n",
       "  </thead>\n",
       "  <tbody>\n",
       "    <tr>\n",
       "      <th>0</th>\n",
       "      <td>69</td>\n",
       "      <td>POLYGON ((195652.163 738095.855, 195655.682 73...</td>\n",
       "      <td>0.984255</td>\n",
       "      <td>7268.720641</td>\n",
       "    </tr>\n",
       "    <tr>\n",
       "      <th>1</th>\n",
       "      <td>87</td>\n",
       "      <td>POLYGON ((209089.691 740219.221, 209086.180 74...</td>\n",
       "      <td>1.000000</td>\n",
       "      <td>861.000000</td>\n",
       "    </tr>\n",
       "    <tr>\n",
       "      <th>2</th>\n",
       "      <td>90</td>\n",
       "      <td>POLYGON ((217315.047 735521.685, 217317.656 73...</td>\n",
       "      <td>1.000000</td>\n",
       "      <td>7697.000000</td>\n",
       "    </tr>\n",
       "    <tr>\n",
       "      <th>3</th>\n",
       "      <td>98</td>\n",
       "      <td>POLYGON ((217519.207 731000.000, 217636.066 73...</td>\n",
       "      <td>0.149914</td>\n",
       "      <td>74.057360</td>\n",
       "    </tr>\n",
       "    <tr>\n",
       "      <th>4</th>\n",
       "      <td>100</td>\n",
       "      <td>POLYGON ((215682.984 733449.616, 215619.317 73...</td>\n",
       "      <td>0.728821</td>\n",
       "      <td>882.602631</td>\n",
       "    </tr>\n",
       "    <tr>\n",
       "      <th>5</th>\n",
       "      <td>102</td>\n",
       "      <td>POLYGON ((213700.492 732466.922, 213642.625 73...</td>\n",
       "      <td>1.000000</td>\n",
       "      <td>1100.000000</td>\n",
       "    </tr>\n",
       "    <tr>\n",
       "      <th>6</th>\n",
       "      <td>145</td>\n",
       "      <td>POLYGON ((198538.950 734261.684, 198528.500 73...</td>\n",
       "      <td>1.000000</td>\n",
       "      <td>622.000000</td>\n",
       "    </tr>\n",
       "    <tr>\n",
       "      <th>7</th>\n",
       "      <td>150</td>\n",
       "      <td>POLYGON ((218500.000 731653.132, 218355.583 73...</td>\n",
       "      <td>0.414306</td>\n",
       "      <td>350.088675</td>\n",
       "    </tr>\n",
       "    <tr>\n",
       "      <th>8</th>\n",
       "      <td>161</td>\n",
       "      <td>POLYGON ((208055.680 738080.556, 208109.827 73...</td>\n",
       "      <td>1.000000</td>\n",
       "      <td>1561.000000</td>\n",
       "    </tr>\n",
       "    <tr>\n",
       "      <th>9</th>\n",
       "      <td>167</td>\n",
       "      <td>POLYGON ((197459.384 735894.277, 197462.764 73...</td>\n",
       "      <td>1.000000</td>\n",
       "      <td>273.000000</td>\n",
       "    </tr>\n",
       "  </tbody>\n",
       "</table>\n",
       "</div>"
      ],
      "text/plain": [
       "   index                                           geometry  areaFraction  \\\n",
       "0     69  POLYGON ((195652.163 738095.855, 195655.682 73...      0.984255   \n",
       "1     87  POLYGON ((209089.691 740219.221, 209086.180 74...      1.000000   \n",
       "2     90  POLYGON ((217315.047 735521.685, 217317.656 73...      1.000000   \n",
       "3     98  POLYGON ((217519.207 731000.000, 217636.066 73...      0.149914   \n",
       "4    100  POLYGON ((215682.984 733449.616, 215619.317 73...      0.728821   \n",
       "5    102  POLYGON ((213700.492 732466.922, 213642.625 73...      1.000000   \n",
       "6    145  POLYGON ((198538.950 734261.684, 198528.500 73...      1.000000   \n",
       "7    150  POLYGON ((218500.000 731653.132, 218355.583 73...      0.414306   \n",
       "8    161  POLYGON ((208055.680 738080.556, 208109.827 73...      1.000000   \n",
       "9    167  POLYGON ((197459.384 735894.277, 197462.764 73...      1.000000   \n",
       "\n",
       "     total_pop  \n",
       "0  7268.720641  \n",
       "1   861.000000  \n",
       "2  7697.000000  \n",
       "3    74.057360  \n",
       "4   882.602631  \n",
       "5  1100.000000  \n",
       "6   622.000000  \n",
       "7   350.088675  \n",
       "8  1561.000000  \n",
       "9   273.000000  "
      ]
     },
     "execution_count": 10,
     "metadata": {},
     "output_type": "execute_result"
    },
    {
     "data": {
      "image/png": "[encoded data removed]",
      "text/plain": [
       "<Figure size 432x288 with 1 Axes>"
      ]
     },
     "metadata": {
      "needs_background": "light"
     },
     "output_type": "display_data"
    }
   ],
   "source": [
    "haifa = demography.projectPolygonOnPopulation(Shape=\"Example\",projectName=\"Documentation\")\n",
    "haifa.plot()\n",
    "haifa.reset_index()[:10]"
   ]
  },
  {
   "cell_type": "markdown",
   "metadata": {},
   "source": [
    "The data is a geopandas of polygons. For each polygon, the amount of population in it is detailed. As can be seen, some of the polygons are cut, beacuse a part of them is outside the desired region. The fraction of their area within the region from their total area is given in the column areaFraction. The amount of population is the total amount of population in each polygon times its fraction.\n",
    "\n",
    "The values we get in these example represent the whole populations. One can find information on specific types of population. To find out which types are available, we can view the population types defined in the config document:"
   ]
  },
  {
   "cell_type": "code",
   "execution_count": 11,
   "metadata": {},
   "outputs": [
    {
     "data": {
      "text/plain": [
       "{'All': 'total_pop',\n",
       " 'Children': 'age_0_14',\n",
       " 'Youth': 'age_15_19',\n",
       " 'YoungAdults': 'age_20_29',\n",
       " 'Adults': 'age_30_64',\n",
       " 'Elderly': 'age_65_up'}"
      ]
     },
     "execution_count": 11,
     "metadata": {},
     "output_type": "execute_result"
    }
   ],
   "source": [
    "demography.getConfig()[\"populationTypes\"]"
   ]
  },
  {
   "cell_type": "markdown",
   "metadata": {},
   "source": [
    "Then, when we can deliver a specific type or a list of types to the function. If we are intersted in population in ages of under 14 or above 65, we may find it like this:"
   ]
  },
  {
   "cell_type": "code",
   "execution_count": 12,
   "metadata": {},
   "outputs": [
    {
     "data": {
      "text/html": [
       "<div>\n",
       "<style scoped>\n",
       "    .dataframe tbody tr th:only-of-type {\n",
       "        vertical-align: middle;\n",
       "    }\n",
       "\n",
       "    .dataframe tbody tr th {\n",
       "        vertical-align: top;\n",
       "    }\n",
       "\n",
       "    .dataframe thead th {\n",
       "        text-align: right;\n",
       "    }\n",
       "</style>\n",
       "<table border=\"1\" class=\"dataframe\">\n",
       "  <thead>\n",
       "    <tr style=\"text-align: right;\">\n",
       "      <th></th>\n",
       "      <th>index</th>\n",
       "      <th>geometry</th>\n",
       "      <th>areaFraction</th>\n",
       "      <th>age_0_14</th>\n",
       "      <th>age_65_up</th>\n",
       "    </tr>\n",
       "  </thead>\n",
       "  <tbody>\n",
       "    <tr>\n",
       "      <th>0</th>\n",
       "      <td>69</td>\n",
       "      <td>POLYGON ((195652.163 738095.855, 195655.682 73...</td>\n",
       "      <td>0.984255</td>\n",
       "      <td>2076.777326</td>\n",
       "      <td>813.978601</td>\n",
       "    </tr>\n",
       "    <tr>\n",
       "      <th>1</th>\n",
       "      <td>87</td>\n",
       "      <td>POLYGON ((209089.691 740219.221, 209086.180 74...</td>\n",
       "      <td>1.000000</td>\n",
       "      <td>192.000000</td>\n",
       "      <td>108.000000</td>\n",
       "    </tr>\n",
       "    <tr>\n",
       "      <th>2</th>\n",
       "      <td>90</td>\n",
       "      <td>POLYGON ((217315.047 735521.685, 217317.656 73...</td>\n",
       "      <td>1.000000</td>\n",
       "      <td>1912.000000</td>\n",
       "      <td>880.000000</td>\n",
       "    </tr>\n",
       "    <tr>\n",
       "      <th>3</th>\n",
       "      <td>98</td>\n",
       "      <td>POLYGON ((217519.207 731000.000, 217636.066 73...</td>\n",
       "      <td>0.149914</td>\n",
       "      <td>25.635240</td>\n",
       "      <td>8.994821</td>\n",
       "    </tr>\n",
       "    <tr>\n",
       "      <th>4</th>\n",
       "      <td>100</td>\n",
       "      <td>POLYGON ((215682.984 733449.616, 215619.317 73...</td>\n",
       "      <td>0.728821</td>\n",
       "      <td>258.002751</td>\n",
       "      <td>110.052021</td>\n",
       "    </tr>\n",
       "    <tr>\n",
       "      <th>5</th>\n",
       "      <td>102</td>\n",
       "      <td>POLYGON ((213700.492 732466.922, 213642.625 73...</td>\n",
       "      <td>1.000000</td>\n",
       "      <td>409.000000</td>\n",
       "      <td>84.000000</td>\n",
       "    </tr>\n",
       "    <tr>\n",
       "      <th>6</th>\n",
       "      <td>145</td>\n",
       "      <td>POLYGON ((198538.950 734261.684, 198528.500 73...</td>\n",
       "      <td>1.000000</td>\n",
       "      <td>156.000000</td>\n",
       "      <td>92.000000</td>\n",
       "    </tr>\n",
       "    <tr>\n",
       "      <th>7</th>\n",
       "      <td>150</td>\n",
       "      <td>POLYGON ((218500.000 731653.132, 218355.583 73...</td>\n",
       "      <td>0.414306</td>\n",
       "      <td>98.190551</td>\n",
       "      <td>50.131041</td>\n",
       "    </tr>\n",
       "    <tr>\n",
       "      <th>8</th>\n",
       "      <td>161</td>\n",
       "      <td>POLYGON ((208055.680 738080.556, 208109.827 73...</td>\n",
       "      <td>1.000000</td>\n",
       "      <td>374.000000</td>\n",
       "      <td>283.000000</td>\n",
       "    </tr>\n",
       "    <tr>\n",
       "      <th>9</th>\n",
       "      <td>167</td>\n",
       "      <td>POLYGON ((197459.384 735894.277, 197462.764 73...</td>\n",
       "      <td>1.000000</td>\n",
       "      <td>85.000000</td>\n",
       "      <td>1.000000</td>\n",
       "    </tr>\n",
       "  </tbody>\n",
       "</table>\n",
       "</div>"
      ],
      "text/plain": [
       "   index                                           geometry  areaFraction  \\\n",
       "0     69  POLYGON ((195652.163 738095.855, 195655.682 73...      0.984255   \n",
       "1     87  POLYGON ((209089.691 740219.221, 209086.180 74...      1.000000   \n",
       "2     90  POLYGON ((217315.047 735521.685, 217317.656 73...      1.000000   \n",
       "3     98  POLYGON ((217519.207 731000.000, 217636.066 73...      0.149914   \n",
       "4    100  POLYGON ((215682.984 733449.616, 215619.317 73...      0.728821   \n",
       "5    102  POLYGON ((213700.492 732466.922, 213642.625 73...      1.000000   \n",
       "6    145  POLYGON ((198538.950 734261.684, 198528.500 73...      1.000000   \n",
       "7    150  POLYGON ((218500.000 731653.132, 218355.583 73...      0.414306   \n",
       "8    161  POLYGON ((208055.680 738080.556, 208109.827 73...      1.000000   \n",
       "9    167  POLYGON ((197459.384 735894.277, 197462.764 73...      1.000000   \n",
       "\n",
       "      age_0_14   age_65_up  \n",
       "0  2076.777326  813.978601  \n",
       "1   192.000000  108.000000  \n",
       "2  1912.000000  880.000000  \n",
       "3    25.635240    8.994821  \n",
       "4   258.002751  110.052021  \n",
       "5   409.000000   84.000000  \n",
       "6   156.000000   92.000000  \n",
       "7    98.190551   50.131041  \n",
       "8   374.000000  283.000000  \n",
       "9    85.000000    1.000000  "
      ]
     },
     "execution_count": 12,
     "metadata": {},
     "output_type": "execute_result"
    }
   ],
   "source": [
    "data = demography.projectPolygonOnPopulation(Shape=\"Example\", projectName=\"Documentation\", populationTypes=[\"Children\",\"Elderly\"])\n",
    "data.reset_index()[:10]"
   ]
  },
  {
   "cell_type": "markdown",
   "metadata": {},
   "source": [
    "## Analysis\n",
    "\n",
    "### Populating an area\n",
    "\n",
    "The polygons of the public demography data describes the area of jurisdiction of cities in israel. However, that area might differ from the actual populated area. The demography tool has a function that “populates” a polygon or a multipolygon. It return a geodataframe whose geometry is the desired area, which holds the sum of all population polygons that intersect with it as its population.\n",
    "\n",
    "For example, if we are interested in the population of Katsrin, and we use the projectPolygonOnPopulation function, we get the this area of jurisdiction:"
   ]
  },
  {
   "cell_type": "code",
   "execution_count": 4,
   "metadata": {},
   "outputs": [
    {
     "data": {
      "text/html": [
       "<div>\n",
       "<style scoped>\n",
       "    .dataframe tbody tr th:only-of-type {\n",
       "        vertical-align: middle;\n",
       "    }\n",
       "\n",
       "    .dataframe tbody tr th {\n",
       "        vertical-align: top;\n",
       "    }\n",
       "\n",
       "    .dataframe thead th {\n",
       "        text-align: right;\n",
       "    }\n",
       "</style>\n",
       "<table border=\"1\" class=\"dataframe\">\n",
       "  <thead>\n",
       "    <tr style=\"text-align: right;\">\n",
       "      <th></th>\n",
       "      <th>geometry</th>\n",
       "      <th>areaFraction</th>\n",
       "      <th>total_pop</th>\n",
       "    </tr>\n",
       "  </thead>\n",
       "  <tbody>\n",
       "    <tr>\n",
       "      <th>1986</th>\n",
       "      <td>POLYGON ((265868.601 767606.445, 266000.000 76...</td>\n",
       "      <td>0.678384</td>\n",
       "      <td>4834.840687</td>\n",
       "    </tr>\n",
       "  </tbody>\n",
       "</table>\n",
       "</div>"
      ],
      "text/plain": [
       "                                               geometry  areaFraction  \\\n",
       "1986  POLYGON ((265868.601 767606.445, 266000.000 76...      0.678384   \n",
       "\n",
       "        total_pop  \n",
       "1986  4834.840687  "
      ]
     },
     "execution_count": 4,
     "metadata": {},
     "output_type": "execute_result"
    },
    {
     "data": {
      "image/png": "[encoded data removed]",
      "text/plain": [
       "<Figure size 432x288 with 1 Axes>"
      ]
     },
     "metadata": {
      "needs_background": "light"
     },
     "output_type": "display_data"
    }
   ],
   "source": [
    "data = demography.projectPolygonOnPopulation(Shape=\"Katsrin\",projectName=\"Documentation\")\n",
    "data.plot()\n",
    "data"
   ]
  },
  {
   "cell_type": "markdown",
   "metadata": {},
   "source": [
    "We can create a dataframe of the buildings in this area, and “populate” it with the population data of the entire area of jurisdiction."
   ]
  },
  {
   "cell_type": "code",
   "execution_count": 5,
   "metadata": {},
   "outputs": [
    {
     "data": {
      "text/html": [
       "<div>\n",
       "<style scoped>\n",
       "    .dataframe tbody tr th:only-of-type {\n",
       "        vertical-align: middle;\n",
       "    }\n",
       "\n",
       "    .dataframe tbody tr th {\n",
       "        vertical-align: top;\n",
       "    }\n",
       "\n",
       "    .dataframe thead th {\n",
       "        text-align: right;\n",
       "    }\n",
       "</style>\n",
       "<table border=\"1\" class=\"dataframe\">\n",
       "  <thead>\n",
       "    <tr style=\"text-align: right;\">\n",
       "      <th></th>\n",
       "      <th>geometry</th>\n",
       "      <th>total_pop</th>\n",
       "      <th>age_0_14</th>\n",
       "      <th>age_15_19</th>\n",
       "      <th>age_20_29</th>\n",
       "      <th>age_30_64</th>\n",
       "      <th>age_65_up</th>\n",
       "    </tr>\n",
       "  </thead>\n",
       "  <tbody>\n",
       "    <tr>\n",
       "      <th>0</th>\n",
       "      <td>POLYGON ((265563.310 765740.620, 265015.690 76...</td>\n",
       "      <td>7127</td>\n",
       "      <td>1704</td>\n",
       "      <td>491</td>\n",
       "      <td>1056</td>\n",
       "      <td>2870</td>\n",
       "      <td>1005</td>\n",
       "    </tr>\n",
       "  </tbody>\n",
       "</table>\n",
       "</div>"
      ],
      "text/plain": [
       "                                            geometry  total_pop  age_0_14  \\\n",
       "0  POLYGON ((265563.310 765740.620, 265015.690 76...       7127      1704   \n",
       "\n",
       "   age_15_19  age_20_29  age_30_64  age_65_up  \n",
       "0        491       1056       2870       1005  "
      ]
     },
     "execution_count": 5,
     "metadata": {},
     "output_type": "execute_result"
    },
    {
     "data": {
      "image/png": "[encoded data removed]",
      "text/plain": [
       "<Figure size 432x288 with 1 Axes>"
      ]
     },
     "metadata": {
      "needs_background": "light"
     },
     "output_type": "display_data"
    }
   ],
   "source": [
    "Katsrin = demography.analysis.populateNewArea(Shape=\"Katsrin\",projectName=\"Documentation\")\n",
    "Katsrin.plot()\n",
    "Katsrin"
   ]
  },
  {
   "cell_type": "markdown",
   "metadata": {},
   "source": [
    "The function may get either a shapely polygon, a name of saved polygon or a name of a saved buildings data as the Shape. If the geometry is a name of a saved buildings data, as in our case, the function uses by default the largest convexed polygon found within the area, using buildings analysis.ConvexPolygons. If one desires to populate the polygons of the buildings themselves, it can be done this way:"
   ]
  },
  {
   "cell_type": "code",
   "execution_count": 6,
   "metadata": {},
   "outputs": [
    {
     "data": {
      "text/plain": [
       "<matplotlib.axes._subplots.AxesSubplot at 0x7fd2a0b91f28>"
      ]
     },
     "execution_count": 6,
     "metadata": {},
     "output_type": "execute_result"
    },
    {
     "data": {
      "image/png": "[encoded data removed]",
      "text/plain": [
       "<Figure size 432x288 with 1 Axes>"
      ]
     },
     "metadata": {
      "needs_background": "light"
     },
     "output_type": "display_data"
    }
   ],
   "source": [
    "KatsrinBuildings = demography.analysis.populateNewArea(Shape=\"Katsrin\",projectName=\"Documentation\",convex=False)\n",
    "KatsrinBuildings.plot()"
   ]
  },
  {
   "cell_type": "markdown",
   "metadata": {},
   "source": [
    "The function may also save the new area to the disc and add it to the database:"
   ]
  },
  {
   "cell_type": "code",
   "execution_count": 7,
   "metadata": {},
   "outputs": [],
   "source": [
    "# Katsrin = demography.analysis.populateNewArea(Shape=\"Katsrin\",projectName=\"Documentation\",\n",
    "#                                              save=True, addToDB=True, path=\"path for the file\", name=\"name for the DB\")"
   ]
  },
  {
   "cell_type": "markdown",
   "metadata": {},
   "source": [
    "Now, this new population data may be used itself as the basic data for the projectPolygonOnPopulation function. Suppose that we want to find the population in a smallpolygon within Katsrin. We would like to use the polygon found above, instead of the entire area of jurisdiction. We can do it this way:"
   ]
  },
  {
   "cell_type": "code",
   "execution_count": 9,
   "metadata": {},
   "outputs": [
    {
     "data": {
      "text/html": [
       "<div>\n",
       "<style scoped>\n",
       "    .dataframe tbody tr th:only-of-type {\n",
       "        vertical-align: middle;\n",
       "    }\n",
       "\n",
       "    .dataframe tbody tr th {\n",
       "        vertical-align: top;\n",
       "    }\n",
       "\n",
       "    .dataframe thead th {\n",
       "        text-align: right;\n",
       "    }\n",
       "</style>\n",
       "<table border=\"1\" class=\"dataframe\">\n",
       "  <thead>\n",
       "    <tr style=\"text-align: right;\">\n",
       "      <th></th>\n",
       "      <th>geometry</th>\n",
       "      <th>areaFraction</th>\n",
       "      <th>total_pop</th>\n",
       "    </tr>\n",
       "  </thead>\n",
       "  <tbody>\n",
       "    <tr>\n",
       "      <th>0</th>\n",
       "      <td>POLYGON ((264000.000 766500.000, 264000.000 76...</td>\n",
       "      <td>0.138955</td>\n",
       "      <td>990.333264</td>\n",
       "    </tr>\n",
       "  </tbody>\n",
       "</table>\n",
       "</div>"
      ],
      "text/plain": [
       "                                            geometry  areaFraction   total_pop\n",
       "0  POLYGON ((264000.000 766500.000, 264000.000 76...      0.138955  990.333264"
      ]
     },
     "execution_count": 9,
     "metadata": {},
     "output_type": "execute_result"
    },
    {
     "data": {
      "image/png": "[encoded data removed]",
      "text/plain": [
       "<Figure size 432x288 with 1 Axes>"
      ]
     },
     "metadata": {
      "needs_background": "light"
     },
     "output_type": "display_data"
    }
   ],
   "source": [
    "import shapely\n",
    "import matplotlib.pyplot as plt\n",
    "\n",
    "poly = shapely.geometry.Polygon([[264000,766500],[264000,767000],[264500,767000],[264500,766500]])\n",
    "data = demography.projectPolygonOnPopulation(Shape=poly, Data=Katsrin)\n",
    "x,y = Katsrin.geometry[0].exterior.xy\n",
    "fig, ax = plt.subplots()\n",
    "ax.plot(x,y)\n",
    "data.plot(ax=ax)\n",
    "data"
   ]
  },
  {
   "cell_type": "code",
   "execution_count": null,
   "metadata": {},
   "outputs": [],
   "source": []
  }
 ],
 "metadata": {
  "kernelspec": {
   "display_name": "Python 3",
   "language": "python",
   "name": "python3"
  },
  "language_info": {
   "codemirror_mode": {
    "name": "ipython",
    "version": 3
   },
   "file_extension": ".py",
   "mimetype": "text/x-python",
   "name": "python",
   "nbconvert_exporter": "python",
   "pygments_lexer": "ipython3",
   "version": "3.6.5"
  }
 },
 "nbformat": 4,
 "nbformat_minor": 4
}
