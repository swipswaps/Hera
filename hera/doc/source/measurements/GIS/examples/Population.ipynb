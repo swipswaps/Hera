{
 "cells": [
  {
   "cell_type": "markdown",
   "metadata": {},
   "source": [
    "# Getting Population data\n",
    "\n",
    "This page demonstrates the use of the population class.\n",
    "This class helps getting data about the demography in different areas.\n",
    "\n",
    "For example, we will use it to get data about the population in Tel Aviv.\n",
    "When using it, we have to deliver either a shapely polygon to use or a string.\n",
    "The string may be a name of a saved Geometry in the database or a name used\n",
    "as a CutName when cutting an area for a new document.\n",
    "In this example, we already have a document whose CutName is \"TelAviv\" in the database."
   ]
  },
  {
   "cell_type": "code",
   "execution_count": 6,
   "metadata": {},
   "outputs": [
    {
     "name": "stdout",
     "output_type": "stream",
     "text": [
      "total_pop\n"
     ]
    },
    {
     "data": {
      "text/html": [
       "<div>\n",
       "<style scoped>\n",
       "    .dataframe tbody tr th:only-of-type {\n",
       "        vertical-align: middle;\n",
       "    }\n",
       "\n",
       "    .dataframe tbody tr th {\n",
       "        vertical-align: top;\n",
       "    }\n",
       "\n",
       "    .dataframe thead th {\n",
       "        text-align: right;\n",
       "    }\n",
       "</style>\n",
       "<table border=\"1\" class=\"dataframe\">\n",
       "  <thead>\n",
       "    <tr style=\"text-align: right;\">\n",
       "      <th></th>\n",
       "      <th>index</th>\n",
       "      <th>geometry</th>\n",
       "      <th>areaFraction</th>\n",
       "      <th>total_pop</th>\n",
       "    </tr>\n",
       "  </thead>\n",
       "  <tbody>\n",
       "    <tr>\n",
       "      <th>0</th>\n",
       "      <td>2001</td>\n",
       "      <td>POLYGON ((180519.382 667804.806, 180488.194 66...</td>\n",
       "      <td>0.307101</td>\n",
       "      <td>1812.815870</td>\n",
       "    </tr>\n",
       "    <tr>\n",
       "      <th>1</th>\n",
       "      <td>2002</td>\n",
       "      <td>POLYGON ((180529.452 667735.310, 180532.092 66...</td>\n",
       "      <td>1.000000</td>\n",
       "      <td>5323.000000</td>\n",
       "    </tr>\n",
       "    <tr>\n",
       "      <th>2</th>\n",
       "      <td>2003</td>\n",
       "      <td>POLYGON ((179568.099 668000.000, 179515.332 66...</td>\n",
       "      <td>0.158529</td>\n",
       "      <td>934.051310</td>\n",
       "    </tr>\n",
       "    <tr>\n",
       "      <th>3</th>\n",
       "      <td>2011</td>\n",
       "      <td>POLYGON ((180785.630 668000.000, 180744.244 66...</td>\n",
       "      <td>0.093554</td>\n",
       "      <td>456.451884</td>\n",
       "    </tr>\n",
       "    <tr>\n",
       "      <th>4</th>\n",
       "      <td>2012</td>\n",
       "      <td>POLYGON ((180693.512 667770.056, 180693.272 66...</td>\n",
       "      <td>0.190037</td>\n",
       "      <td>1001.875425</td>\n",
       "    </tr>\n",
       "    <tr>\n",
       "      <th>5</th>\n",
       "      <td>2038</td>\n",
       "      <td>POLYGON ((183000.000 667881.890, 182946.436 66...</td>\n",
       "      <td>0.037327</td>\n",
       "      <td>100.448238</td>\n",
       "    </tr>\n",
       "    <tr>\n",
       "      <th>6</th>\n",
       "      <td>2048</td>\n",
       "      <td>POLYGON ((178971.756 666604.498, 178919.262 66...</td>\n",
       "      <td>1.000000</td>\n",
       "      <td>2417.000000</td>\n",
       "    </tr>\n",
       "    <tr>\n",
       "      <th>7</th>\n",
       "      <td>2049</td>\n",
       "      <td>POLYGON ((179223.249 667019.323, 179222.949 66...</td>\n",
       "      <td>1.000000</td>\n",
       "      <td>2015.000000</td>\n",
       "    </tr>\n",
       "    <tr>\n",
       "      <th>8</th>\n",
       "      <td>2050</td>\n",
       "      <td>POLYGON ((179666.573 667070.029, 179666.683 66...</td>\n",
       "      <td>1.000000</td>\n",
       "      <td>4299.000000</td>\n",
       "    </tr>\n",
       "    <tr>\n",
       "      <th>9</th>\n",
       "      <td>2051</td>\n",
       "      <td>POLYGON ((179603.166 666518.382, 179602.897 66...</td>\n",
       "      <td>1.000000</td>\n",
       "      <td>3914.000000</td>\n",
       "    </tr>\n",
       "  </tbody>\n",
       "</table>\n",
       "</div>"
      ],
      "text/plain": [
       "   index                                           geometry  areaFraction  \\\n",
       "0   2001  POLYGON ((180519.382 667804.806, 180488.194 66...      0.307101   \n",
       "1   2002  POLYGON ((180529.452 667735.310, 180532.092 66...      1.000000   \n",
       "2   2003  POLYGON ((179568.099 668000.000, 179515.332 66...      0.158529   \n",
       "3   2011  POLYGON ((180785.630 668000.000, 180744.244 66...      0.093554   \n",
       "4   2012  POLYGON ((180693.512 667770.056, 180693.272 66...      0.190037   \n",
       "5   2038  POLYGON ((183000.000 667881.890, 182946.436 66...      0.037327   \n",
       "6   2048  POLYGON ((178971.756 666604.498, 178919.262 66...      1.000000   \n",
       "7   2049  POLYGON ((179223.249 667019.323, 179222.949 66...      1.000000   \n",
       "8   2050  POLYGON ((179666.573 667070.029, 179666.683 66...      1.000000   \n",
       "9   2051  POLYGON ((179603.166 666518.382, 179602.897 66...      1.000000   \n",
       "\n",
       "     total_pop  \n",
       "0  1812.815870  \n",
       "1  5323.000000  \n",
       "2   934.051310  \n",
       "3   456.451884  \n",
       "4  1001.875425  \n",
       "5   100.448238  \n",
       "6  2417.000000  \n",
       "7  2015.000000  \n",
       "8  4299.000000  \n",
       "9  3914.000000  "
      ]
     },
     "execution_count": 6,
     "metadata": {},
     "output_type": "execute_result"
    },
    {
     "data": {
      "image/png": "[encoded data removed]",
      "text/plain": [
       "<Figure size 432x288 with 1 Axes>"
      ]
     },
     "metadata": {
      "needs_background": "light"
     },
     "output_type": "display_data"
    }
   ],
   "source": [
    "from hera import GIS\n",
    "population = GIS.population(projectName=\"Examples\") \n",
    "data = population.projectPolygonOnPopulation(Geometry=\"TelAviv\")\n",
    "data.reset_index()[:10].plot()\n",
    "data.reset_index()[:10]"
   ]
  },
  {
   "cell_type": "markdown",
   "metadata": {},
   "source": [
    "As can be seen, the data is a geopandas of polygons.\n",
    "For each polygon, the amount of population in it is detailed.\n",
    "As can be seen, some of the polygons are cut, beacuse a part of them is outside the desired region.\n",
    "The fraction of their area within the region from their total area is given in the column areaFraction.\n",
    "The amount of population is the total amount of population in each polygon times its fraction.\n",
    "\n",
    "The values we get in these example represent the whole populations.\n",
    "One can find information on specific types of population.\n",
    "To find out which types are available, we can use this line:"
   ]
  },
  {
   "cell_type": "code",
   "execution_count": 7,
   "metadata": {},
   "outputs": [
    {
     "data": {
      "text/plain": [
       "{'All': 'total_pop',\n",
       " 'Children': 'AGE_0_14',\n",
       " 'Youth': 'AGE_15_19',\n",
       " 'YoungAdults': 'age_20_29',\n",
       " 'Adults': 'age_30_64',\n",
       " 'Elderly': 'AGE_65_up'}"
      ]
     },
     "execution_count": 7,
     "metadata": {},
     "output_type": "execute_result"
    }
   ],
   "source": [
    "population.agesDefinition"
   ]
  },
  {
   "cell_type": "markdown",
   "metadata": {},
   "source": [
    "Then, when we can deliver a specific type or a list of types to the function.\n",
    "If we are intersted in population in ages of under 14 or above 65, we may find it like this:"
   ]
  },
  {
   "cell_type": "code",
   "execution_count": 8,
   "metadata": {},
   "outputs": [
    {
     "name": "stdout",
     "output_type": "stream",
     "text": [
      "AGE_0_14\n",
      "AGE_65_up\n"
     ]
    },
    {
     "data": {
      "text/html": [
       "<div>\n",
       "<style scoped>\n",
       "    .dataframe tbody tr th:only-of-type {\n",
       "        vertical-align: middle;\n",
       "    }\n",
       "\n",
       "    .dataframe tbody tr th {\n",
       "        vertical-align: top;\n",
       "    }\n",
       "\n",
       "    .dataframe thead th {\n",
       "        text-align: right;\n",
       "    }\n",
       "</style>\n",
       "<table border=\"1\" class=\"dataframe\">\n",
       "  <thead>\n",
       "    <tr style=\"text-align: right;\">\n",
       "      <th></th>\n",
       "      <th>index</th>\n",
       "      <th>geometry</th>\n",
       "      <th>areaFraction</th>\n",
       "      <th>AGE_0_14</th>\n",
       "      <th>AGE_65_up</th>\n",
       "    </tr>\n",
       "  </thead>\n",
       "  <tbody>\n",
       "    <tr>\n",
       "      <th>0</th>\n",
       "      <td>2001</td>\n",
       "      <td>POLYGON ((180519.382 667804.806, 180488.194 66...</td>\n",
       "      <td>0.307101</td>\n",
       "      <td>379.269456</td>\n",
       "      <td>389.096681</td>\n",
       "    </tr>\n",
       "    <tr>\n",
       "      <th>1</th>\n",
       "      <td>2002</td>\n",
       "      <td>POLYGON ((180529.452 667735.310, 180532.092 66...</td>\n",
       "      <td>1.000000</td>\n",
       "      <td>1197.000000</td>\n",
       "      <td>1046.000000</td>\n",
       "    </tr>\n",
       "    <tr>\n",
       "      <th>2</th>\n",
       "      <td>2003</td>\n",
       "      <td>POLYGON ((179568.099 668000.000, 179515.332 66...</td>\n",
       "      <td>0.158529</td>\n",
       "      <td>211.635862</td>\n",
       "      <td>193.246529</td>\n",
       "    </tr>\n",
       "    <tr>\n",
       "      <th>3</th>\n",
       "      <td>2011</td>\n",
       "      <td>POLYGON ((180785.630 668000.000, 180744.244 66...</td>\n",
       "      <td>0.093554</td>\n",
       "      <td>80.550332</td>\n",
       "      <td>96.735242</td>\n",
       "    </tr>\n",
       "    <tr>\n",
       "      <th>4</th>\n",
       "      <td>2012</td>\n",
       "      <td>POLYGON ((180693.512 667770.056, 180693.272 66...</td>\n",
       "      <td>0.190037</td>\n",
       "      <td>130.365429</td>\n",
       "      <td>96.918905</td>\n",
       "    </tr>\n",
       "    <tr>\n",
       "      <th>5</th>\n",
       "      <td>2038</td>\n",
       "      <td>POLYGON ((183000.000 667881.890, 182946.436 66...</td>\n",
       "      <td>0.037327</td>\n",
       "      <td>21.351316</td>\n",
       "      <td>17.431931</td>\n",
       "    </tr>\n",
       "    <tr>\n",
       "      <th>6</th>\n",
       "      <td>2048</td>\n",
       "      <td>POLYGON ((178971.756 666604.498, 178919.262 66...</td>\n",
       "      <td>1.000000</td>\n",
       "      <td>338.000000</td>\n",
       "      <td>344.000000</td>\n",
       "    </tr>\n",
       "    <tr>\n",
       "      <th>7</th>\n",
       "      <td>2049</td>\n",
       "      <td>POLYGON ((179223.249 667019.323, 179222.949 66...</td>\n",
       "      <td>1.000000</td>\n",
       "      <td>284.000000</td>\n",
       "      <td>238.000000</td>\n",
       "    </tr>\n",
       "    <tr>\n",
       "      <th>8</th>\n",
       "      <td>2050</td>\n",
       "      <td>POLYGON ((179666.573 667070.029, 179666.683 66...</td>\n",
       "      <td>1.000000</td>\n",
       "      <td>657.000000</td>\n",
       "      <td>611.000000</td>\n",
       "    </tr>\n",
       "    <tr>\n",
       "      <th>9</th>\n",
       "      <td>2051</td>\n",
       "      <td>POLYGON ((179603.166 666518.382, 179602.897 66...</td>\n",
       "      <td>1.000000</td>\n",
       "      <td>456.000000</td>\n",
       "      <td>489.000000</td>\n",
       "    </tr>\n",
       "  </tbody>\n",
       "</table>\n",
       "</div>"
      ],
      "text/plain": [
       "   index                                           geometry  areaFraction  \\\n",
       "0   2001  POLYGON ((180519.382 667804.806, 180488.194 66...      0.307101   \n",
       "1   2002  POLYGON ((180529.452 667735.310, 180532.092 66...      1.000000   \n",
       "2   2003  POLYGON ((179568.099 668000.000, 179515.332 66...      0.158529   \n",
       "3   2011  POLYGON ((180785.630 668000.000, 180744.244 66...      0.093554   \n",
       "4   2012  POLYGON ((180693.512 667770.056, 180693.272 66...      0.190037   \n",
       "5   2038  POLYGON ((183000.000 667881.890, 182946.436 66...      0.037327   \n",
       "6   2048  POLYGON ((178971.756 666604.498, 178919.262 66...      1.000000   \n",
       "7   2049  POLYGON ((179223.249 667019.323, 179222.949 66...      1.000000   \n",
       "8   2050  POLYGON ((179666.573 667070.029, 179666.683 66...      1.000000   \n",
       "9   2051  POLYGON ((179603.166 666518.382, 179602.897 66...      1.000000   \n",
       "\n",
       "      AGE_0_14    AGE_65_up  \n",
       "0   379.269456   389.096681  \n",
       "1  1197.000000  1046.000000  \n",
       "2   211.635862   193.246529  \n",
       "3    80.550332    96.735242  \n",
       "4   130.365429    96.918905  \n",
       "5    21.351316    17.431931  \n",
       "6   338.000000   344.000000  \n",
       "7   284.000000   238.000000  \n",
       "8   657.000000   611.000000  \n",
       "9   456.000000   489.000000  "
      ]
     },
     "execution_count": 8,
     "metadata": {},
     "output_type": "execute_result"
    }
   ],
   "source": [
    "data = population.projectPolygonOnPopulation(Geometry=\"TelAviv\", populationTypes=[\"Children\",\"Elderly\"])\n",
    "data.reset_index()[:10]"
   ]
  },
  {
   "cell_type": "markdown",
   "metadata": {},
   "source": [
    "If one desires to use one's own data instead of the public data, \n",
    "one can deliver a geopandas dataframe of data to the function.\n",
    "The populationTypes should be name/s of column/s from the data.\n",
    "For example:"
   ]
  },
  {
   "cell_type": "code",
   "execution_count": 9,
   "metadata": {},
   "outputs": [],
   "source": [
    "#dataframe = some geopandas dataframe\n",
    "#populationType = some column name\n",
    "#data = population.projectPolygonOnPopulation(Geometry=\"TelAviv\", data=dataframe, populationTypes=populationType)"
   ]
  }
 ],
 "metadata": {
  "kernelspec": {
   "display_name": "Python 3",
   "language": "python",
   "name": "python3"
  },
  "language_info": {
   "codemirror_mode": {
    "name": "ipython",
    "version": 3
   },
   "file_extension": ".py",
   "mimetype": "text/x-python",
   "name": "python",
   "nbconvert_exporter": "python",
   "pygments_lexer": "ipython3",
   "version": "3.6.5"
  }
 },
 "nbformat": 4,
 "nbformat_minor": 4
}
