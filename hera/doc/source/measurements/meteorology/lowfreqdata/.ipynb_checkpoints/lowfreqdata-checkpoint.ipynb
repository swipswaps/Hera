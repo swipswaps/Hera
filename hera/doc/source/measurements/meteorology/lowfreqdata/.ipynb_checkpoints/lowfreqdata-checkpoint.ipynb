{
 "cells": [
  {
   "cell_type": "markdown",
   "metadata": {},
   "source": [
    "### Parsing the data and getting pandas DataFrame\n",
    "\n",
    "Currently, the tool is able to parse the IMS-JSON format. So, first download file from https://ims.data.gov.il/ims/7"
   ]
  },
  {
   "cell_type": "code",
   "execution_count": 2,
   "metadata": {},
   "outputs": [
    {
     "name": "stderr",
     "output_type": "stream",
     "text": [
      "WARNING:root:FreeCAD not Found, cannot convert to STL\n"
     ]
    },
    {
     "name": "stdout",
     "output_type": "stream",
     "text": [
      "You must install python-wrf to use this package \n"
     ]
    }
   ],
   "source": [
    "from hera.measurements.meteorology.lowfreqdata import lowfreqDataLayer"
   ]
  },
  {
   "cell_type": "markdown",
   "metadata": {},
   "source": [
    "Loading the data from the file. We use the default IMS-JSON foramat. "
   ]
  },
  {
   "cell_type": "code",
   "execution_count": 3,
   "metadata": {},
   "outputs": [],
   "source": [
    "loadedData = lowfreqDataLayer.getStationDataFromFile(pathToData=\"ims-results-json.json\", \n",
    "                                                     fileFormat=lowfreqDataLayer.JSONIMS,\n",
    "                                                     storeDB =False)"
   ]
  },
  {
   "cell_type": "markdown",
   "metadata": {},
   "source": [
    "The data that was loaded is returned as a metadata document. \n",
    "Therefore, we need to use getData()"
   ]
  },
  {
   "cell_type": "code",
   "execution_count": 4,
   "metadata": {},
   "outputs": [
    {
     "name": "stdout",
     "output_type": "stream",
     "text": [
      "                      stn_name  stn_num      BP  DiffR  Grad   NIP  RH  Rain  \\\n",
      "time_obs                                                                       \n",
      "2020-09-01 00:00:00  BET DAGAN       54  1001.4      0 -9999 -9999   0     0   \n",
      "2020-09-01 00:10:00  BET DAGAN       54  1001.3      0 -9999 -9999   0     0   \n",
      "2020-09-01 00:20:00  BET DAGAN       54  1001.2      0 -9999 -9999   0     0   \n",
      "2020-09-01 00:30:00  BET DAGAN       54  1001.2      0 -9999 -9999   0     0   \n",
      "2020-09-01 00:40:00  BET DAGAN       54  1001.2      0 -9999 -9999   0     0   \n",
      "\n",
      "                     STDwd    TD  TDmax  TDmin    TG  Time   WD  WDmax   WS  \\\n",
      "time_obs                                                                      \n",
      "2020-09-01 00:00:00    7.9  27.6   27.6   27.6  27.4  2351  212    223  2.0   \n",
      "2020-09-01 00:10:00    8.7  27.7   27.8   27.6  27.9     1  208    195  1.9   \n",
      "2020-09-01 00:20:00    7.8  27.9   27.9   27.8  27.7    18  200    191  2.1   \n",
      "2020-09-01 00:30:00   10.4  27.9   27.9   27.8  27.6    21  199    192  1.9   \n",
      "2020-09-01 00:40:00    9.0  27.8   27.8   27.7  27.4    37  202    187  1.8   \n",
      "\n",
      "                     WS1mm  WSmax  Ws10mm  \n",
      "time_obs                                   \n",
      "2020-09-01 00:00:00    2.2    2.7     2.0  \n",
      "2020-09-01 00:10:00    2.8    3.3     2.0  \n",
      "2020-09-01 00:20:00    2.6    3.0     2.1  \n",
      "2020-09-01 00:30:00    2.6    3.0     2.1  \n",
      "2020-09-01 00:40:00    2.5    3.0     1.9  \n"
     ]
    }
   ],
   "source": [
    "print(loadedData.getData().head())"
   ]
  },
  {
   "cell_type": "markdown",
   "metadata": {},
   "source": [
    "### Loading data to the database.\n",
    "\n",
    "It is possible to parse the data, converty it to parquet and load it to the database. \n",
    "\n",
    "This is useful when there is a large dataset. When the data is retrieved from the database, it is returned as dask. "
   ]
  },
  {
   "cell_type": "code",
   "execution_count": 5,
   "metadata": {},
   "outputs": [],
   "source": [
    "loadedData = lowfreqDataLayer.getStationDataFromFile(pathToData=\"ims-results-json.json\", \n",
    "                                                     fileFormat=lowfreqDataLayer.JSONIMS,\n",
    "                                                     storeDB =True)"
   ]
  },
  {
   "cell_type": "markdown",
   "metadata": {},
   "source": [
    "We got the file we loaded and it was added to the DB. If the station already exists there, then the data is appended. "
   ]
  },
  {
   "cell_type": "code",
   "execution_count": 6,
   "metadata": {},
   "outputs": [
    {
     "name": "stdout",
     "output_type": "stream",
     "text": [
      "                      stn_name  stn_num      BP  DiffR  Grad   NIP  RH  Rain  \\\n",
      "time_obs                                                                       \n",
      "2020-09-01 00:00:00  BET DAGAN       54  1001.4      0 -9999 -9999   0     0   \n",
      "2020-09-01 00:10:00  BET DAGAN       54  1001.3      0 -9999 -9999   0     0   \n",
      "2020-09-01 00:20:00  BET DAGAN       54  1001.2      0 -9999 -9999   0     0   \n",
      "2020-09-01 00:30:00  BET DAGAN       54  1001.2      0 -9999 -9999   0     0   \n",
      "2020-09-01 00:40:00  BET DAGAN       54  1001.2      0 -9999 -9999   0     0   \n",
      "\n",
      "                     STDwd    TD  TDmax  TDmin    TG  Time   WD  WDmax   WS  \\\n",
      "time_obs                                                                      \n",
      "2020-09-01 00:00:00    7.9  27.6   27.6   27.6  27.4  2351  212    223  2.0   \n",
      "2020-09-01 00:10:00    8.7  27.7   27.8   27.6  27.9     1  208    195  1.9   \n",
      "2020-09-01 00:20:00    7.8  27.9   27.9   27.8  27.7    18  200    191  2.1   \n",
      "2020-09-01 00:30:00   10.4  27.9   27.9   27.8  27.6    21  199    192  1.9   \n",
      "2020-09-01 00:40:00    9.0  27.8   27.8   27.7  27.4    37  202    187  1.8   \n",
      "\n",
      "                     WS1mm  WSmax  Ws10mm  \n",
      "time_obs                                   \n",
      "2020-09-01 00:00:00    2.2    2.7     2.0  \n",
      "2020-09-01 00:10:00    2.8    3.3     2.0  \n",
      "2020-09-01 00:20:00    2.6    3.0     2.1  \n",
      "2020-09-01 00:30:00    2.6    3.0     2.1  \n",
      "2020-09-01 00:40:00    2.5    3.0     1.9  \n"
     ]
    }
   ],
   "source": [
    "print(loadedData.getData().head())"
   ]
  },
  {
   "cell_type": "markdown",
   "metadata": {},
   "source": [
    "## Getting data from DB\n",
    "\n",
    "Getting the data from the DB is very similar to parsing and loading a file. \n",
    "\n",
    "### Listing all the stations in the DB\n",
    "\n",
    "First, we will list the stations in the DB: "
   ]
  },
  {
   "cell_type": "code",
   "execution_count": 7,
   "metadata": {},
   "outputs": [
    {
     "name": "stdout",
     "output_type": "stream",
     "text": [
      "['BET DAGAN']\n"
     ]
    }
   ],
   "source": [
    "listStations = lowfreqDataLayer.listStations()\n",
    "print(listStations)"
   ]
  },
  {
   "cell_type": "markdown",
   "metadata": {},
   "source": [
    "### Getting data from the database\n",
    "\n",
    "Get the data of the station from the database. "
   ]
  },
  {
   "cell_type": "code",
   "execution_count": 8,
   "metadata": {},
   "outputs": [
    {
     "name": "stdout",
     "output_type": "stream",
     "text": [
      "                      stn_name  stn_num      BP  DiffR  Grad   NIP  RH  Rain  \\\n",
      "time_obs                                                                       \n",
      "2020-09-01 00:00:00  BET DAGAN       54  1001.4      0 -9999 -9999   0     0   \n",
      "2020-09-01 00:10:00  BET DAGAN       54  1001.3      0 -9999 -9999   0     0   \n",
      "2020-09-01 00:20:00  BET DAGAN       54  1001.2      0 -9999 -9999   0     0   \n",
      "2020-09-01 00:30:00  BET DAGAN       54  1001.2      0 -9999 -9999   0     0   \n",
      "2020-09-01 00:40:00  BET DAGAN       54  1001.2      0 -9999 -9999   0     0   \n",
      "\n",
      "                     STDwd    TD  TDmax  TDmin    TG  Time   WD  WDmax   WS  \\\n",
      "time_obs                                                                      \n",
      "2020-09-01 00:00:00    7.9  27.6   27.6   27.6  27.4  2351  212    223  2.0   \n",
      "2020-09-01 00:10:00    8.7  27.7   27.8   27.6  27.9     1  208    195  1.9   \n",
      "2020-09-01 00:20:00    7.8  27.9   27.9   27.8  27.7    18  200    191  2.1   \n",
      "2020-09-01 00:30:00   10.4  27.9   27.9   27.8  27.6    21  199    192  1.9   \n",
      "2020-09-01 00:40:00    9.0  27.8   27.8   27.7  27.4    37  202    187  1.8   \n",
      "\n",
      "                     WS1mm  WSmax  Ws10mm  \n",
      "time_obs                                   \n",
      "2020-09-01 00:00:00    2.2    2.7     2.0  \n",
      "2020-09-01 00:10:00    2.8    3.3     2.0  \n",
      "2020-09-01 00:20:00    2.6    3.0     2.1  \n",
      "2020-09-01 00:30:00    2.6    3.0     2.1  \n",
      "2020-09-01 00:40:00    2.5    3.0     1.9  \n"
     ]
    }
   ],
   "source": [
    "datadb = lowfreqDataLayer.getStationDataFromDB(StationName=listStations[0])\n",
    "print(datadb.getData().head())"
   ]
  },
  {
   "cell_type": "code",
   "execution_count": null,
   "metadata": {},
   "outputs": [],
   "source": []
  },
  {
   "cell_type": "code",
   "execution_count": null,
   "metadata": {},
   "outputs": [],
   "source": []
  }
 ],
 "metadata": {
  "kernelspec": {
   "display_name": "Python 3",
   "language": "python",
   "name": "python3"
  },
  "language_info": {
   "codemirror_mode": {
    "name": "ipython",
    "version": 3
   },
   "file_extension": ".py",
   "mimetype": "text/x-python",
   "name": "python",
   "nbconvert_exporter": "python",
   "pygments_lexer": "ipython3",
   "version": "3.8.6"
  }
 },
 "nbformat": 4,
 "nbformat_minor": 4
}
