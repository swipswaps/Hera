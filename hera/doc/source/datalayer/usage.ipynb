{
 "cells": [
  {
   "cell_type": "markdown",
   "metadata": {},
   "source": [
    "# Adding data\n",
    "\n",
    "This notebook shows how to add the data with the datalayer.\n",
    "\n",
    "Several parameters must be given for any document, and must be defined in order to add new data.\n",
    "These parameters are the ones given in the next example.\n",
    "In addition, one may add any other parameters to the document.\n",
    "\n",
    "The data is added using the next method:"
   ]
  },
  {
   "cell_type": "code",
   "execution_count": 6,
   "metadata": {},
   "outputs": [],
   "source": [
    "from hera import datalayer\n",
    "\n",
    "projectName = \"addDataExample\" # must be a string\n",
    "documentType = \"ExampleData\" # must be a string\n",
    "desc = {\"description_A\": \"A\", \"description_B\": \"B\"} # must be a dectionary. Contains descriptors of the data.\n",
    "dataFormat = \"geopandas\" # must be a string. The allowed data formats are given below. \n",
    "resource = \"/mnt/public/New-MAPI-data/BNTL_MALE_ARZI/BNTL_MALE_ARZI/RELIEF/CONTOUR.shp\" # A dynamic fields, that points to a specific file in a folder.\n",
    "\n",
    "datalayer.Measurements.addDocument(projectName=projectName, desc=desc, type=documentType, dataFormat=dataFormat, resource=resource)"
   ]
  },
  {
   "cell_type": "markdown",
   "metadata": {},
   "source": [
    "Notice that the desc dictionary may not contain a key named \"type\".\n",
    "The allowed data formats are:\n",
    "\n",
    "- string\n",
    "- time\n",
    "- HDF\n",
    "- dict\n",
    "- netcdf_xarray\n",
    "- JSON_dict\n",
    "- JSON_pandas\n",
    "- geopandas \n",
    "- parquet\n",
    "\n",
    "They indicate how to read the data, and therefore must correspond to the type of data located in the resource.\n",
    "\n",
    "The added document can be loaded as presented in the \"Getting data\" notebook."
   ]
  },
  {
   "cell_type": "markdown",
   "metadata": {},
   "source": [
    "# Getting data\n",
    "This notebook shows how to get the data with the datalayer."
   ]
  },
  {
   "cell_type": "code",
   "execution_count": 1,
   "metadata": {},
   "outputs": [],
   "source": [
    "import datalayer as datalayer\n",
    "import pandas"
   ]
  },
  {
   "cell_type": "markdown",
   "metadata": {},
   "source": [
    "After importing the datalayer, you can get the data that fits your requirments.\n",
    "Below we see an example of getting the document of the experimental data between 2 dates of Haifa campaign in station Check_Post, instrument Sonic, height 9(m)."
   ]
  },
  {
   "cell_type": "code",
   "execution_count": 2,
   "metadata": {},
   "outputs": [
    {
     "name": "stdout",
     "output_type": "stream",
     "text": [
      "Dask DataFrame Structure:\n",
      "                               u        v        w        T\n",
      "npartitions=3                                              \n",
      "2015-08-01 00:00:00.000  float64  float64  float64  float64\n",
      "2015-08-01 13:53:22.550      ...      ...      ...      ...\n",
      "2015-08-02 00:00:00.000      ...      ...      ...      ...\n",
      "2015-08-02 00:00:00.000      ...      ...      ...      ...\n",
      "Dask Name: loc, 15 tasks\n"
     ]
    }
   ],
   "source": [
    "projectName = 'Haifa'\n",
    "station = 'Check_Post'\n",
    "instrument = 'Sonic'\n",
    "height = 9\n",
    "start = pandas.Timestamp('2015-08-01')\n",
    "end = pandas.Timestamp('2015-08-02')\n",
    "data = datalayer.Measurements.getData(projectName=projectName,\n",
    "                                      station=station,\n",
    "                                      instrument=instrument,\n",
    "                                      height=height,\n",
    "                                      start__lte=end,\n",
    "                                      end__gte=start\n",
    "                                      )[start:end]\n",
    "print(data)"
   ]
  },
  {
   "cell_type": "markdown",
   "metadata": {},
   "source": [
    "Now we got the data as dask dataframe.\n",
    "To get the data as pandas dataframe we need to use the 'compute' function."
   ]
  },
  {
   "cell_type": "code",
   "execution_count": 3,
   "metadata": {},
   "outputs": [
    {
     "name": "stdout",
     "output_type": "stream",
     "text": [
      "                            u     v     w      T\n",
      "Time                                            \n",
      "2015-08-01 00:00:00.000  0.75 -0.80 -0.17  26.90\n",
      "2015-08-01 00:00:00.050  0.77 -0.77 -0.12  26.85\n",
      "2015-08-01 00:00:00.100  0.77 -0.77 -0.12  26.85\n",
      "2015-08-01 00:00:00.150  0.72 -0.85 -0.14  26.89\n",
      "2015-08-01 00:00:00.200  0.72 -0.85 -0.14  26.89\n",
      "2015-08-01 00:00:00.250  0.72 -0.85 -0.14  26.87\n",
      "2015-08-01 00:00:00.300  0.76 -0.81 -0.13  26.85\n",
      "2015-08-01 00:00:00.350  0.76 -0.81 -0.13  26.85\n",
      "2015-08-01 00:00:00.400  0.75 -0.91 -0.15  26.85\n",
      "2015-08-01 00:00:00.450  0.75 -0.88 -0.16  26.80\n",
      "2015-08-01 00:00:00.500  0.79 -0.84 -0.13  26.82\n",
      "2015-08-01 00:00:00.550  0.79 -0.84 -0.13  26.82\n",
      "2015-08-01 00:00:00.600  0.75 -0.91 -0.15  26.82\n",
      "2015-08-01 00:00:00.650  0.75 -0.91 -0.15  26.82\n",
      "2015-08-01 00:00:00.700  0.75 -0.91 -0.15  26.80\n",
      "2015-08-01 00:00:00.750  0.75 -0.91 -0.15  26.80\n",
      "2015-08-01 00:00:00.800  0.78 -0.85 -0.11  26.85\n",
      "2015-08-01 00:00:00.850  0.75 -0.91 -0.15  26.82\n",
      "2015-08-01 00:00:00.900  0.75 -0.91 -0.15  26.82\n",
      "2015-08-01 00:00:00.950  0.77 -0.87 -0.12  26.83\n",
      "2015-08-01 00:00:01.000  0.78 -0.85 -0.11  26.85\n",
      "2015-08-01 00:00:01.050  0.78 -0.85 -0.11  26.85\n",
      "2015-08-01 00:00:01.100  0.78 -0.85 -0.11  26.85\n",
      "2015-08-01 00:00:01.150  0.76 -0.88 -0.12  26.87\n",
      "2015-08-01 00:00:01.200  0.76 -0.88 -0.12  26.87\n",
      "2015-08-01 00:00:01.250  0.78 -0.90 -0.10  26.82\n",
      "2015-08-01 00:00:01.300  0.78 -0.90 -0.10  26.82\n",
      "2015-08-01 00:00:01.350  0.78 -0.85 -0.11  26.85\n",
      "2015-08-01 00:00:01.450  0.77 -0.83 -0.14  26.83\n",
      "2015-08-01 00:00:01.500  0.77 -0.83 -0.14  26.83\n",
      "...                       ...   ...   ...    ...\n",
      "2015-08-01 23:59:58.550 -2.25  2.62 -0.44  28.69\n",
      "2015-08-01 23:59:58.600 -1.94  2.44 -0.14  28.66\n",
      "2015-08-01 23:59:58.650 -1.94  2.44 -0.14  28.66\n",
      "2015-08-01 23:59:58.700 -1.83  2.39  0.26  28.64\n",
      "2015-08-01 23:59:58.750 -1.97  2.24  0.03  28.68\n",
      "2015-08-01 23:59:58.800 -1.97  2.24  0.03  28.68\n",
      "2015-08-01 23:59:58.850 -1.70  2.34  0.16  28.69\n",
      "2015-08-01 23:59:58.900 -1.70  2.34  0.16  28.69\n",
      "2015-08-01 23:59:58.950 -1.77  2.45 -0.06  28.66\n",
      "2015-08-01 23:59:59.000 -1.98  2.46 -0.10  28.69\n",
      "2015-08-01 23:59:59.050 -1.98  2.46 -0.10  28.69\n",
      "2015-08-01 23:59:59.100 -1.96  2.40 -0.43  28.71\n",
      "2015-08-01 23:59:59.150 -1.96  2.40 -0.43  28.71\n",
      "2015-08-01 23:59:59.200 -1.85  2.46 -0.29  28.66\n",
      "2015-08-01 23:59:59.250 -1.78  2.36 -0.14  28.69\n",
      "2015-08-01 23:59:59.300 -1.78  2.36 -0.14  28.69\n",
      "2015-08-01 23:59:59.350 -1.68  2.23 -0.40  28.68\n",
      "2015-08-01 23:59:59.400 -1.68  2.23 -0.40  28.68\n",
      "2015-08-01 23:59:59.450 -1.70  2.15 -0.81  28.64\n",
      "2015-08-01 23:59:59.500 -1.70  2.50 -0.60  28.68\n",
      "2015-08-01 23:59:59.550 -1.70  2.50 -0.60  28.68\n",
      "2015-08-01 23:59:59.600 -1.64  2.42 -0.58  28.68\n",
      "2015-08-01 23:59:59.650 -1.64  2.42 -0.58  28.68\n",
      "2015-08-01 23:59:59.700 -1.74  2.30 -0.37  28.69\n",
      "2015-08-01 23:59:59.750 -1.74  2.30 -0.37  28.69\n",
      "2015-08-01 23:59:59.800 -1.77  2.15 -0.99  28.64\n",
      "2015-08-01 23:59:59.850 -1.82  2.16 -0.84  28.69\n",
      "2015-08-01 23:59:59.900 -1.82  2.16 -0.84  28.69\n",
      "2015-08-01 23:59:59.950 -1.83  2.52 -0.79  28.71\n",
      "2015-08-02 00:00:00.000 -1.83  2.52 -0.79  28.71\n",
      "\n",
      "[1727937 rows x 4 columns]\n"
     ]
    }
   ],
   "source": [
    "data = data.compute()\n",
    "print(data)"
   ]
  },
  {
   "cell_type": "markdown",
   "metadata": {},
   "source": [
    "Alternatively you can use the argument 'usePandas' with value True to get data directly as pandas and not dask.\n",
    "(Should be used only when the data is small)"
   ]
  },
  {
   "cell_type": "code",
   "execution_count": 4,
   "metadata": {},
   "outputs": [
    {
     "name": "stdout",
     "output_type": "stream",
     "text": [
      "                            u     v     w      T\n",
      "Time                                            \n",
      "2015-08-01 00:00:00.000  0.75 -0.80 -0.17  26.90\n",
      "2015-08-01 00:00:00.050  0.77 -0.77 -0.12  26.85\n",
      "2015-08-01 00:00:00.100  0.77 -0.77 -0.12  26.85\n",
      "2015-08-01 00:00:00.150  0.72 -0.85 -0.14  26.89\n",
      "2015-08-01 00:00:00.200  0.72 -0.85 -0.14  26.89\n",
      "2015-08-01 00:00:00.250  0.72 -0.85 -0.14  26.87\n",
      "2015-08-01 00:00:00.300  0.76 -0.81 -0.13  26.85\n",
      "2015-08-01 00:00:00.350  0.76 -0.81 -0.13  26.85\n",
      "2015-08-01 00:00:00.400  0.75 -0.91 -0.15  26.85\n",
      "2015-08-01 00:00:00.450  0.75 -0.88 -0.16  26.80\n",
      "2015-08-01 00:00:00.500  0.79 -0.84 -0.13  26.82\n",
      "2015-08-01 00:00:00.550  0.79 -0.84 -0.13  26.82\n",
      "2015-08-01 00:00:00.600  0.75 -0.91 -0.15  26.82\n",
      "2015-08-01 00:00:00.650  0.75 -0.91 -0.15  26.82\n",
      "2015-08-01 00:00:00.700  0.75 -0.91 -0.15  26.80\n",
      "2015-08-01 00:00:00.750  0.75 -0.91 -0.15  26.80\n",
      "2015-08-01 00:00:00.800  0.78 -0.85 -0.11  26.85\n",
      "2015-08-01 00:00:00.850  0.75 -0.91 -0.15  26.82\n",
      "2015-08-01 00:00:00.900  0.75 -0.91 -0.15  26.82\n",
      "2015-08-01 00:00:00.950  0.77 -0.87 -0.12  26.83\n",
      "2015-08-01 00:00:01.000  0.78 -0.85 -0.11  26.85\n",
      "2015-08-01 00:00:01.050  0.78 -0.85 -0.11  26.85\n",
      "2015-08-01 00:00:01.100  0.78 -0.85 -0.11  26.85\n",
      "2015-08-01 00:00:01.150  0.76 -0.88 -0.12  26.87\n",
      "2015-08-01 00:00:01.200  0.76 -0.88 -0.12  26.87\n",
      "2015-08-01 00:00:01.250  0.78 -0.90 -0.10  26.82\n",
      "2015-08-01 00:00:01.300  0.78 -0.90 -0.10  26.82\n",
      "2015-08-01 00:00:01.350  0.78 -0.85 -0.11  26.85\n",
      "2015-08-01 00:00:01.450  0.77 -0.83 -0.14  26.83\n",
      "2015-08-01 00:00:01.500  0.77 -0.83 -0.14  26.83\n",
      "...                       ...   ...   ...    ...\n",
      "2015-08-01 23:59:58.550 -2.25  2.62 -0.44  28.69\n",
      "2015-08-01 23:59:58.600 -1.94  2.44 -0.14  28.66\n",
      "2015-08-01 23:59:58.650 -1.94  2.44 -0.14  28.66\n",
      "2015-08-01 23:59:58.700 -1.83  2.39  0.26  28.64\n",
      "2015-08-01 23:59:58.750 -1.97  2.24  0.03  28.68\n",
      "2015-08-01 23:59:58.800 -1.97  2.24  0.03  28.68\n",
      "2015-08-01 23:59:58.850 -1.70  2.34  0.16  28.69\n",
      "2015-08-01 23:59:58.900 -1.70  2.34  0.16  28.69\n",
      "2015-08-01 23:59:58.950 -1.77  2.45 -0.06  28.66\n",
      "2015-08-01 23:59:59.000 -1.98  2.46 -0.10  28.69\n",
      "2015-08-01 23:59:59.050 -1.98  2.46 -0.10  28.69\n",
      "2015-08-01 23:59:59.100 -1.96  2.40 -0.43  28.71\n",
      "2015-08-01 23:59:59.150 -1.96  2.40 -0.43  28.71\n",
      "2015-08-01 23:59:59.200 -1.85  2.46 -0.29  28.66\n",
      "2015-08-01 23:59:59.250 -1.78  2.36 -0.14  28.69\n",
      "2015-08-01 23:59:59.300 -1.78  2.36 -0.14  28.69\n",
      "2015-08-01 23:59:59.350 -1.68  2.23 -0.40  28.68\n",
      "2015-08-01 23:59:59.400 -1.68  2.23 -0.40  28.68\n",
      "2015-08-01 23:59:59.450 -1.70  2.15 -0.81  28.64\n",
      "2015-08-01 23:59:59.500 -1.70  2.50 -0.60  28.68\n",
      "2015-08-01 23:59:59.550 -1.70  2.50 -0.60  28.68\n",
      "2015-08-01 23:59:59.600 -1.64  2.42 -0.58  28.68\n",
      "2015-08-01 23:59:59.650 -1.64  2.42 -0.58  28.68\n",
      "2015-08-01 23:59:59.700 -1.74  2.30 -0.37  28.69\n",
      "2015-08-01 23:59:59.750 -1.74  2.30 -0.37  28.69\n",
      "2015-08-01 23:59:59.800 -1.77  2.15 -0.99  28.64\n",
      "2015-08-01 23:59:59.850 -1.82  2.16 -0.84  28.69\n",
      "2015-08-01 23:59:59.900 -1.82  2.16 -0.84  28.69\n",
      "2015-08-01 23:59:59.950 -1.83  2.52 -0.79  28.71\n",
      "2015-08-02 00:00:00.000 -1.83  2.52 -0.79  28.71\n",
      "\n",
      "[1727937 rows x 4 columns]\n"
     ]
    }
   ],
   "source": [
    "projectName = 'Haifa'\n",
    "station = 'Check_Post'\n",
    "instrument = 'Sonic'\n",
    "height = 9\n",
    "start = pandas.Timestamp('2015-08-01')\n",
    "end = pandas.Timestamp('2015-08-02')\n",
    "data = datalayer.Measurements.getData(projectName=projectName,\n",
    "                                      station=station,\n",
    "                                      instrument=instrument,\n",
    "                                      height=height,\n",
    "                                      start__lte=end,\n",
    "                                      end__gte=start,\n",
    "                                      usePandas=True\n",
    "                                      )[start:end]\n",
    "print(data)"
   ]
  },
  {
   "cell_type": "markdown",
   "metadata": {},
   "source": [
    "# Using Project \n",
    "\n",
    "Using the Project class simplifies the access to the different documents of the project. \n",
    "\n",
    "Define the project with "
   ]
  },
  {
   "cell_type": "code",
   "execution_count": null,
   "metadata": {},
   "outputs": [],
   "source": [
    "from hera.datalayer import Project \n",
    "\n",
    "p = Project(projectName=\"testProject\")\n",
    "\n",
    "p.simulations"
   ]
  }
 ],
 "metadata": {
  "kernelspec": {
   "display_name": "Python 3",
   "language": "python",
   "name": "python3"
  },
  "language_info": {
   "codemirror_mode": {
    "name": "ipython",
    "version": 3
   },
   "file_extension": ".py",
   "mimetype": "text/x-python",
   "name": "python",
   "nbconvert_exporter": "python",
   "pygments_lexer": "ipython3",
   "version": "3.7.6"
  }
 },
 "nbformat": 4,
 "nbformat_minor": 4
}
