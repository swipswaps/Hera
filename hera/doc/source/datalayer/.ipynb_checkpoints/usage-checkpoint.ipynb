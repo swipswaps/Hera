{
 "cells": [
  {
   "cell_type": "markdown",
   "metadata": {},
   "source": [
    "# Adding data\n",
    "\n",
    "This notebook shows how to add a document to database with the datalayer.\n",
    "\n",
    "First, we will create a synthetic dataframe that we want to save as a database record:"
   ]
  },
  {
   "cell_type": "code",
   "execution_count": 40,
   "metadata": {},
   "outputs": [
    {
     "name": "stdout",
     "output_type": "stream",
     "text": [
      "                           date      time  value\n",
      "date_time                                       \n",
      "2016-11-10 22:00:00  2016-11-10  22:00:00     90\n",
      "2016-11-10 23:00:00  2016-11-10  23:00:00     91\n",
      "2016-11-11 00:00:00  2016-11-11  00:00:00     80\n",
      "2016-11-11 01:00:00  2016-11-11  01:00:00     87\n",
      "2016-11-11 02:00:00  2016-11-11  02:00:00     84\n",
      "2016-11-11 03:00:00  2016-11-11  03:00:00     94\n",
      "2016-11-11 04:00:00  2016-11-11  04:00:00     91\n",
      "2016-11-11 05:00:00  2016-11-11  05:00:00     94\n"
     ]
    }
   ],
   "source": [
    "import pandas\n",
    "\n",
    "df = pandas.DataFrame(dict(date = [\"2016-11-10\", \"2016-11-10\", \"2016-11-11\", \"2016-11-11\",\"2016-11-11\",\"2016-11-11\",\"2016-11-11\", \"2016-11-11\" ],\n",
    "                           time = [\"22:00:00\", \"23:00:00\", \"00:00:00\", \"01:00:00\", \"02:00:00\", \"03:00:00\", \"04:00:00\", \"05:00:00\"],\n",
    "                           value = [90, 91, 80, 87, 84,94, 91, 94]))\n",
    "df['date_time'] = pandas.to_datetime(df['date'] + ' ' + df['time'])\n",
    "df=df.set_index('date_time')\n",
    "print (df)"
   ]
  },
  {
   "cell_type": "markdown",
   "metadata": {},
   "source": [
    "Several parameters must be given for any document, and must be defined in order to add new data.\n",
    "These parameters are the ones given in the next example.\n",
    "In addition, one may add any other parameters to the document.\n",
    "\n",
    "The data is added using the next method:"
   ]
  },
  {
   "cell_type": "code",
   "execution_count": 41,
   "metadata": {},
   "outputs": [
    {
     "name": "stdout",
     "output_type": "stream",
     "text": [
      "Measurements object\n"
     ]
    }
   ],
   "source": [
    "from hera import datalayer\n",
    "\n",
    "projectName = \"addDataExample\" # must be a string\n",
    "documentType = \"ExampleData\" # must be a string\n",
    "desc = {\"description_A\": \"A\", \"description_B\": \"B\"} # must be a dictionary. Contains descriptors of the data.\n",
    "dataFormat = datalayer.datatypes.JSON_PANDAS # other types are givnen the documentation. \n",
    "resource = df.to_json() # A dynamic field, can points to a specific file in a folder (path) or contain the data itself.\n",
    "\n",
    "new_doc=datalayer.Measurements.addDocument(projectName=projectName, desc=desc, type=documentType, dataFormat=dataFormat, resource=resource)\n",
    "print(new_doc)"
   ]
  },
  {
   "cell_type": "markdown",
   "metadata": {},
   "source": [
    "Notice that the desc dictionary may not contain a key named \"type\".\n",
    "The allowed data formats are detailed in the hera.datalayer.datatypes:\n",
    "\n",
    "-    STRING : Any string. \n",
    "-    TIME   : any date/time object\n",
    "-    HDF    : a dask or pandas in hdf file format. \n",
    "-    NETCDF_XARRAY : an xarray netcdf. \n",
    "-    JSON_DICT  :  JSON as python dict \n",
    "-    JSON_PANDAS :  JSON as pandas.DataFrame \n",
    "-    GEOPANDAS   : a GIS-file format. returns as geopandas.GISDataFrame \n",
    "-    PARQUET    : dask or pandas in parquet format. \n",
    "-    IMAGE      : any Image data format. Preferably PNG. \n",
    "\n",
    "They indicate how to read the data, and therefore must correspond to the type of data located in the resource.\n",
    "\n",
    "The added document can be loaded as presented in the \"Getting data\" notebook."
   ]
  },
  {
   "cell_type": "markdown",
   "metadata": {},
   "source": [
    "# Getting data\n",
    "This notebook shows how to get the data with the datalayer.\n",
    "\n",
    "Let's read the synthetic database record we saved in the \"Adding Data\" example"
   ]
  },
  {
   "cell_type": "markdown",
   "metadata": {},
   "source": [
    "After importing the datalayer, you can get the data that fits your requirments. \n",
    "Below we see an example of getting the document of the experimental data between 2 dates of Haifa campaign in station Check_Post, instrument Sonic, height 9(m)."
   ]
  },
  {
   "cell_type": "code",
   "execution_count": 42,
   "metadata": {},
   "outputs": [],
   "source": [
    "# projectName = 'Haifa'\n",
    "# station = 'Check_Post'\n",
    "# instrument = 'Sonic'\n",
    "# height = 9\n",
    "\n",
    "# doc = datalayer.Measurements.getDocuments(projectName=projectName,\n",
    "#                                       station=station,\n",
    "#                                       instrument=instrument,\n",
    "#                                       height=height)\n",
    "\n",
    "projectName = \"addDataExample\"\n",
    "desc=dict(description_A = \"A\")\n",
    "\n",
    "docList = datalayer.Measurements.getDocuments(projectName=projectName,**desc)"
   ]
  },
  {
   "cell_type": "markdown",
   "metadata": {},
   "source": [
    "The result obtained from the query is:"
   ]
  },
  {
   "cell_type": "code",
   "execution_count": 43,
   "metadata": {},
   "outputs": [
    {
     "name": "stdout",
     "output_type": "stream",
     "text": [
      "[<Measurements: Measurements object>, <Measurements: Measurements object>, <Measurements: Measurements object>]\n"
     ]
    }
   ],
   "source": [
    "print(docList)"
   ]
  },
  {
   "cell_type": "markdown",
   "metadata": {},
   "source": [
    "You can now read the data from the 'doc' and perform another query (for example, on a date range):"
   ]
  },
  {
   "cell_type": "code",
   "execution_count": 44,
   "metadata": {},
   "outputs": [
    {
     "name": "stdout",
     "output_type": "stream",
     "text": [
      "                          date      time  value\n",
      "2016-11-10 23:00:00 2016-11-10  23:00:00     91\n",
      "2016-11-11 00:00:00 2016-11-11  00:00:00     80\n",
      "2016-11-11 01:00:00 2016-11-11  01:00:00     87\n",
      "2016-11-11 02:00:00 2016-11-11  02:00:00     84\n"
     ]
    }
   ],
   "source": [
    "start = pandas.Timestamp('2016-11-10 23:00:00')\n",
    "end = pandas.Timestamp('2016-11-11 02:00:00')\n",
    "data=(docList[docList.count() - 1].getData())\n",
    "data=data[start:end]\n",
    "\n",
    "print(data)"
   ]
  },
  {
   "cell_type": "markdown",
   "metadata": {},
   "source": [
    "If we have got our data as dask dataframe, we can convert it to pandas dataframe with the '.compute()' function, like this: data = data.compute()\n",
    "\n",
    "Alternatively you can use the argument 'usePandas' with value True to get data directly as pandas and not dask.\n",
    "(**Should be used only when the data is small**)"
   ]
  },
  {
   "cell_type": "markdown",
   "metadata": {},
   "source": [
    "# Update data description\n",
    "\n"
   ]
  },
  {
   "cell_type": "markdown",
   "metadata": {},
   "source": [
    "Before:"
   ]
  },
  {
   "cell_type": "code",
   "execution_count": 45,
   "metadata": {},
   "outputs": [
    {
     "name": "stdout",
     "output_type": "stream",
     "text": [
      "The resource is: resource3\n",
      "The description is: {'description_A': 'A', 'description_B': 'B', 'description_C': 'C2'}\n"
     ]
    }
   ],
   "source": [
    "print('The resource is: %s' %docList[0].resource)\n",
    "print('The description is: %s' %docList[0].desc)"
   ]
  },
  {
   "cell_type": "code",
   "execution_count": 46,
   "metadata": {},
   "outputs": [],
   "source": [
    "docobj = docList[0]\n",
    "newdata1 = dict(docobj.desc)\n",
    "newdata1['description_C'] = \"C1\"\n",
    "resource1 = \"resource1\"\n",
    "\n",
    "\n",
    "newdata2 = dict(docobj.desc)\n",
    "newdata2['description_C'] = \"C2\"\n",
    "resource2 = \"resource2\""
   ]
  },
  {
   "cell_type": "markdown",
   "metadata": {},
   "source": [
    "### Method 1: set the new attributes in the object and save. "
   ]
  },
  {
   "cell_type": "code",
   "execution_count": 47,
   "metadata": {},
   "outputs": [
    {
     "data": {
      "text/plain": [
       "<Measurements: Measurements object>"
      ]
     },
     "execution_count": 47,
     "metadata": {},
     "output_type": "execute_result"
    }
   ],
   "source": [
    "docobj.resource = resource1\n",
    "docobj.desc = newdata1\n",
    "docobj.save()"
   ]
  },
  {
   "cell_type": "markdown",
   "metadata": {},
   "source": [
    "Now we check that the database was updated. "
   ]
  },
  {
   "cell_type": "code",
   "execution_count": 48,
   "metadata": {},
   "outputs": [
    {
     "name": "stdout",
     "output_type": "stream",
     "text": [
      "The resource is: resource1\n",
      "The description is: {'description_A': 'A', 'description_B': 'B', 'description_C': 'C1'}\n"
     ]
    }
   ],
   "source": [
    "after_update_docList = datalayer.Measurements.getDocuments(projectName=projectName,**desc)\n",
    "after_update_docobj = docList[0]\n",
    "print('The resource is: %s' %after_update_docobj.resource)\n",
    "print('The description is: %s' %after_update_docobj.desc)"
   ]
  },
  {
   "cell_type": "markdown",
   "metadata": {},
   "source": [
    "### Method 2: Using the update method"
   ]
  },
  {
   "cell_type": "code",
   "execution_count": 49,
   "metadata": {},
   "outputs": [],
   "source": [
    "docobj = docList[0]\n",
    "docobj=docobj.update(resource=\"resource2\",desc=newdata2)"
   ]
  },
  {
   "cell_type": "markdown",
   "metadata": {},
   "source": [
    "Now we update the object and fetch the current values from the database: "
   ]
  },
  {
   "cell_type": "code",
   "execution_count": 50,
   "metadata": {},
   "outputs": [
    {
     "name": "stdout",
     "output_type": "stream",
     "text": [
      "The resource is: resource2\n",
      "The description is: {'description_A': 'A', 'description_B': 'B', 'description_C': 'C2'}\n"
     ]
    }
   ],
   "source": [
    "after_update_docList = datalayer.Measurements.getDocuments(projectName=projectName,**desc)\n",
    "after_update_docobj = docList[0]\n",
    "print('The resource is: %s' %after_update_docobj.resource)\n",
    "print('The description is: %s' %after_update_docobj.desc)"
   ]
  },
  {
   "cell_type": "markdown",
   "metadata": {},
   "source": [
    "## Reloading an object. \n",
    "\n",
    "If the there are 2 instaces of the same document, and one updated the DB, it is necessary to reload them. \n",
    "For example. Lets assume we have used getDocument twice. "
   ]
  },
  {
   "cell_type": "code",
   "execution_count": 51,
   "metadata": {},
   "outputs": [],
   "source": [
    "copy1_docList = datalayer.Measurements.getDocuments(projectName=projectName,**desc)\n",
    "copy2_docList = datalayer.Measurements.getDocuments(projectName=projectName,**desc)\n",
    "\n",
    "copy1_doc0 = copy1_docList[0]\n",
    "copy2_doc0 = copy2_docList[0]"
   ]
  },
  {
   "cell_type": "markdown",
   "metadata": {},
   "source": [
    "Now we update the first document in copy1_docList"
   ]
  },
  {
   "cell_type": "code",
   "execution_count": 52,
   "metadata": {},
   "outputs": [
    {
     "data": {
      "text/plain": [
       "1"
      ]
     },
     "execution_count": 52,
     "metadata": {},
     "output_type": "execute_result"
    }
   ],
   "source": [
    "copy1_doc0.update(resource=\"resource3\")"
   ]
  },
  {
   "cell_type": "markdown",
   "metadata": {},
   "source": [
    "The value is copy 2 remains the old value: "
   ]
  },
  {
   "cell_type": "code",
   "execution_count": 53,
   "metadata": {},
   "outputs": [
    {
     "name": "stdout",
     "output_type": "stream",
     "text": [
      "Resource in copy 1: resource2\n",
      "Resource in copy 2: resource2\n"
     ]
    }
   ],
   "source": [
    "print('Resource in copy 1: %s' % copy1_doc0.resource)\n",
    "print('Resource in copy 2: %s' % copy2_doc0.resource)"
   ]
  },
  {
   "cell_type": "markdown",
   "metadata": {},
   "source": [
    "To update copy2 we need to reload it. "
   ]
  },
  {
   "cell_type": "code",
   "execution_count": 54,
   "metadata": {},
   "outputs": [
    {
     "data": {
      "text/plain": [
       "<Measurements: Measurements object>"
      ]
     },
     "execution_count": 54,
     "metadata": {},
     "output_type": "execute_result"
    }
   ],
   "source": [
    "copy2_doc0.reload()"
   ]
  },
  {
   "cell_type": "markdown",
   "metadata": {},
   "source": [
    "Now the values in the instance copy2_doc0 are synchronized with the DB"
   ]
  },
  {
   "cell_type": "code",
   "execution_count": 55,
   "metadata": {},
   "outputs": [
    {
     "name": "stdout",
     "output_type": "stream",
     "text": [
      "Resource in copy 1: resource2\n",
      "Resource in copy 2: resource3\n"
     ]
    }
   ],
   "source": [
    "print('Resource in copy 1: %s' % copy1_doc0.resource)\n",
    "print('Resource in copy 2: %s' % copy2_doc0.resource)"
   ]
  },
  {
   "cell_type": "markdown",
   "metadata": {},
   "source": [
    "# Deleting documents \n",
    "\n",
    "These methods does not delete the data from the disk, but just the metadata. \n",
    "It is the user responsibility to remove the data itself. "
   ]
  },
  {
   "cell_type": "code",
   "execution_count": 58,
   "metadata": {},
   "outputs": [],
   "source": [
    "before_delete_docList = datalayer.Measurements.getDocuments(projectName=projectName,**desc)\n",
    "for doc in before_delete_docList:\n",
    "    doc.delete()"
   ]
  },
  {
   "cell_type": "code",
   "execution_count": 59,
   "metadata": {},
   "outputs": [
    {
     "name": "stdout",
     "output_type": "stream",
     "text": [
      "[]\n"
     ]
    }
   ],
   "source": [
    "after_delete_docList = datalayer.Measurements.getDocuments(projectName=projectName,**desc)\n",
    "print(after_delete_docList)"
   ]
  },
  {
   "cell_type": "markdown",
   "metadata": {},
   "source": [
    "# Working with other databases \n",
    "\n",
    "In order to access each type of document (measurement, simulation or cache) it is necessary \n",
    "to initialize the relevant collection with the name of the connection. \n",
    "\n",
    "For example, to access the measurement object with the connection 'public':"
   ]
  },
  {
   "cell_type": "code",
   "execution_count": null,
   "metadata": {},
   "outputs": [],
   "source": [
    "from hera.datalayer import Measurements_Collection\n",
    "measurement_newDB = Measurements_Collection(user=\"public\")"
   ]
  },
  {
   "cell_type": "markdown",
   "metadata": {},
   "source": [
    "# Adding a database connection \n",
    "\n",
    "Sometimes, it is necessary to add the connection string during runtime. \n",
    "To do so, \n"
   ]
  },
  {
   "cell_type": "code",
   "execution_count": null,
   "metadata": {},
   "outputs": [],
   "source": [
    "from hera.datalayer import createDBConnection\n",
    "\n",
    "connectionData = dict(dbIP=\"100.100.100.100\",\n",
    "                      dbName=\"the new name\",\n",
    "                      username=\"username\",\n",
    "                      password =\"password\")\n",
    "\n",
    "createDBConnection(user=\"connectionName\",mongoConfig=connectionData)"
   ]
  },
  {
   "cell_type": "markdown",
   "metadata": {},
   "source": [
    "# Using Project \n",
    "\n",
    "Using the Project class simplifies the access to the different types of documents of the project. \n",
    "\n",
    "When a project object is initialized it is associated with a project. "
   ]
  },
  {
   "cell_type": "code",
   "execution_count": 87,
   "metadata": {},
   "outputs": [
    {
     "data": {
      "text/plain": [
       "<hera.datalayer.collection.Simulations_Collection at 0x7f27ed655198>"
      ]
     },
     "execution_count": 87,
     "metadata": {},
     "output_type": "execute_result"
    }
   ],
   "source": [
    "from hera.datalayer import Project \n",
    "\n",
    "proj = Project(projectName=\"testProject\")"
   ]
  },
  {
   "cell_type": "markdown",
   "metadata": {},
   "source": [
    "Using the proj object, accesing the documents uses the project. "
   ]
  },
  {
   "cell_type": "code",
   "execution_count": null,
   "metadata": {},
   "outputs": [],
   "source": [
    "MeasurementDocs = proj.getMeasurementsDocuments(propery1='prop')"
   ]
  },
  {
   "cell_type": "markdown",
   "metadata": {},
   "source": [
    "Similarly, it is possible to add documents and delete documents. "
   ]
  }
 ],
 "metadata": {
  "kernelspec": {
   "display_name": "Python 3",
   "language": "python",
   "name": "python3"
  },
  "language_info": {
   "codemirror_mode": {
    "name": "ipython",
    "version": 3
   },
   "file_extension": ".py",
   "mimetype": "text/x-python",
   "name": "python",
   "nbconvert_exporter": "python",
   "pygments_lexer": "ipython3",
   "version": "3.7.6"
  }
 },
 "nbformat": 4,
 "nbformat_minor": 4
}
