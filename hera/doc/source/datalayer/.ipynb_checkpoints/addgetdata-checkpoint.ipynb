{
 "cells": [
  {
   "cell_type": "markdown",
   "metadata": {},
   "source": [
    "# Adding data"
   ]
  },
  {
   "cell_type": "markdown",
   "metadata": {},
   "source": [
    "First lets define some mock-up data.\n",
    "Lets create 3 data from 3 distributions with different mean and std."
   ]
  },
  {
   "cell_type": "code",
   "execution_count": 2,
   "metadata": {},
   "outputs": [
    {
     "name": "stdout",
     "output_type": "stream",
     "text": [
      "          x         y\n",
      "0 -2.326348  0.026652\n",
      "1 -2.279351  0.029698\n",
      "2 -2.232354  0.033020\n",
      "3 -2.185357  0.036632\n",
      "4 -2.138360  0.040550\n"
     ]
    }
   ],
   "source": [
    "import json\n",
    "import os\n",
    "import pandas\n",
    "import numpy\n",
    "from scipy.stats import norm\n",
    "import  matplotlib.pyplot as plt \n",
    "from hera import datalayer\n",
    "\n",
    "x = numpy.linspace(norm.ppf(0.01), norm.ppf(0.99), 100)\n",
    "\n",
    "dataset1 = pandas.DataFrame(dict(x=x,y=norm.pdf(x,loc=0,scale=1)))\n",
    "dataset2 = pandas.DataFrame(dict(x=x,y=norm.pdf(x,loc=0,scale=0.5)))\n",
    "dataset3 = pandas.DataFrame(dict(x=x,y=norm.pdf(x,loc=0.5,scale=0.5)))\n",
    "\n",
    "print(dataset1.head())"
   ]
  },
  {
   "cell_type": "markdown",
   "metadata": {},
   "source": [
    "Now that we have data, we can save it. \n",
    "We would like to keep the connection between the data and the parameters that generated it. \n",
    "so that \n",
    "* dataset1 will be described by loc=0 and scale = 1\n",
    "* dataset2 will be described by loc=0 and scale = 0.5\n",
    "* dataset3 will be described by loc=0.5 and scale = 0.5\n",
    "\n",
    "Therefore, we will save the loc and scale as metadata. \n",
    "\n",
    "First, we create the file name that we we want to save to. \n"
   ]
  },
  {
   "cell_type": "code",
   "execution_count": 3,
   "metadata": {},
   "outputs": [
    {
     "name": "stdout",
     "output_type": "stream",
     "text": [
      "The current file directory is /home/yehuda/Development/Hera/hera/doc/source\n"
     ]
    }
   ],
   "source": [
    "workingdir = os.path.abspath(os.path.dirname(os.getcwd()))\n",
    "print(f\"The current file directory is {workingdir}\")"
   ]
  },
  {
   "cell_type": "markdown",
   "metadata": {},
   "source": [
    "It is very important to save the **absolute path** (using os.path.abspath) and not the relative path \n",
    "because that way the loading process is independent of the location it is perfomed in. "
   ]
  },
  {
   "cell_type": "code",
   "execution_count": 4,
   "metadata": {},
   "outputs": [],
   "source": [
    "dataset1File = os.path.join(workingdir,\"dataset1.parquet\")\n",
    "dataset2File = os.path.join(workingdir,\"dataset2.parquet\")\n",
    "dataset3File = os.path.join(workingdir,\"dataset3.parquet\")"
   ]
  },
  {
   "cell_type": "markdown",
   "metadata": {},
   "source": [
    "Now we can save the dataset. We choose parquet for convinience, but it can be any other format. "
   ]
  },
  {
   "cell_type": "code",
   "execution_count": 5,
   "metadata": {},
   "outputs": [],
   "source": [
    "dataset1.to_parquet(dataset1File,engine='fastparquet',compression='GZIP')\n",
    "dataset2.to_parquet(dataset2File,engine='fastparquet',compression='GZIP')\n",
    "dataset3.to_parquet(dataset3File,engine='fastparquet',compression='GZIP')"
   ]
  },
  {
   "cell_type": "markdown",
   "metadata": {},
   "source": [
    "When we save the data to the database we need to specify the project name that the record is related to. \n",
    "we use "
   ]
  },
  {
   "cell_type": "code",
   "execution_count": 6,
   "metadata": {},
   "outputs": [],
   "source": [
    "projectName = \"ExampleProject\""
   ]
  },
  {
   "cell_type": "markdown",
   "metadata": {},
   "source": [
    "in our example. \n",
    "\n",
    "Next, we add the documents to the database."
   ]
  },
  {
   "cell_type": "code",
   "execution_count": 7,
   "metadata": {},
   "outputs": [
    {
     "data": {
      "text/plain": [
       "<Measurements: Measurements object>"
      ]
     },
     "execution_count": 7,
     "metadata": {},
     "output_type": "execute_result"
    }
   ],
   "source": [
    "datalayer.Measurements.addDocument(projectName=projectName,\n",
    "                                   type=\"Distribution\",\n",
    "                                   dataFormat=datalayer.datatypes.PARQUET,\n",
    "                                   resource=dataset1File,\n",
    "                                   desc=dict(loc=0,scale=1))\n",
    "\n",
    "datalayer.Measurements.addDocument(projectName=projectName,\n",
    "                                   type=\"Distribution\",\n",
    "                                   dataFormat=datalayer.datatypes.PARQUET,\n",
    "                                   resource=dataset2File,\n",
    "                                   desc=dict(loc=0,scale=0.5))\n",
    "\n",
    "datalayer.Measurements.addDocument(projectName=projectName,\n",
    "                                   type=\"Distribution\",\n",
    "                                   dataFormat=datalayer.datatypes.PARQUET,\n",
    "                                   resource=dataset3File,\n",
    "                                   desc=dict(loc=0.5,scale=0.5))"
   ]
  },
  {
   "cell_type": "markdown",
   "metadata": {},
   "source": [
    "The type of the document was chosen arbitrarily and can be any string. This string helps in future queries of the data. \n",
    "It can also be an empty string. \n",
    "\n",
    "The desc property includes the metadata in a JSON format. It can be any valid JSON. \n",
    "\n",
    "Each data is classified into one of the following categories.\n",
    "\n",
    "- Measurements - Any acquisition of data from the 'real world'. Satellites, meteorological measurments and dispersion measurements and etc.\n",
    "- Simulations  - Any output of a model. (OpenFOAM, WRF, LSM and etc).\n",
    "- Cache        - Any data that is created during analyis and needed to be cached to accelerate the computations.\n"
   ]
  },
  {
   "cell_type": "markdown",
   "metadata": {},
   "source": [
    "# Getting the  data\n",
    "\n",
    "## Getting one record back\n",
    "Now we will query the database for all the records in which loc=0 and scale=1. "
   ]
  },
  {
   "cell_type": "code",
   "execution_count": 8,
   "metadata": {},
   "outputs": [
    {
     "name": "stdout",
     "output_type": "stream",
     "text": [
      "The number of documents obtained from the query 1 \n"
     ]
    }
   ],
   "source": [
    "List1 = datalayer.Measurements.getDocuments(projectName=projectName,loc=0,scale=1)\n",
    "\n",
    "print(f\"The number of documents obtained from the query {len(List1)} \")\n",
    "item0 = List1[0]\n"
   ]
  },
  {
   "cell_type": "markdown",
   "metadata": {},
   "source": [
    "Note that for consistency the query always returns a list. \n",
    "\n",
    "The description of the record that matched the query is "
   ]
  },
  {
   "cell_type": "code",
   "execution_count": 9,
   "metadata": {},
   "outputs": [
    {
     "name": "stdout",
     "output_type": "stream",
     "text": [
      "The description of dataset 1\n",
      "{\n",
      "    \"loc\": 0,\n",
      "    \"scale\": 1\n",
      "}\n"
     ]
    }
   ],
   "source": [
    "print(\"The description of dataset 1\")\n",
    "print(json.dumps(item0.desc, indent=4, sort_keys=True))"
   ]
  },
  {
   "cell_type": "markdown",
   "metadata": {},
   "source": [
    "Now, we will extract the data. "
   ]
  },
  {
   "cell_type": "code",
   "execution_count": 10,
   "metadata": {},
   "outputs": [
    {
     "name": "stdout",
     "output_type": "stream",
     "text": [
      "           x         y\n",
      "0  -2.326348  0.026652\n",
      "1  -2.279351  0.029698\n",
      "2  -2.232354  0.033020\n",
      "3  -2.185357  0.036632\n",
      "4  -2.138360  0.040550\n",
      "..       ...       ...\n",
      "95  2.138360  0.040550\n",
      "96  2.185357  0.036632\n",
      "97  2.232354  0.033020\n",
      "98  2.279351  0.029698\n",
      "99  2.326348  0.026652\n",
      "\n",
      "[100 rows x 2 columns]\n"
     ]
    }
   ],
   "source": [
    "dataset1FromDB = item0.getData().compute()\n",
    "\n",
    "print(dataset1FromDB)"
   ]
  },
  {
   "cell_type": "markdown",
   "metadata": {},
   "source": [
    "## Getting multiple records back\n",
    "\n",
    "If the query is specified in a more general way. Lets get all the records in which loc=0"
   ]
  },
  {
   "cell_type": "code",
   "execution_count": 11,
   "metadata": {},
   "outputs": [
    {
     "name": "stdout",
     "output_type": "stream",
     "text": [
      "The number of documents obtained from the query 2 \n"
     ]
    }
   ],
   "source": [
    "List2 = datalayer.Measurements.getDocuments(projectName=projectName,loc=0)\n",
    "\n",
    "print(f\"The number of documents obtained from the query {len(List2)} \")"
   ]
  },
  {
   "cell_type": "markdown",
   "metadata": {},
   "source": [
    "# Updating the data.\n",
    "\n",
    "The hera system holds the name of the file on the disk and loads the data from it.\n",
    "Therefore, if the datafile on the disk is overwitten, then the data of the record is changed\n",
    "\n",
    "Lets multiply dataset1 by factor 2.  The file name is saved in the resource attribute. "
   ]
  },
  {
   "cell_type": "code",
   "execution_count": 12,
   "metadata": {},
   "outputs": [],
   "source": [
    "dataset1['y'] *=2\n",
    "dataset1FileName = item0.resource \n",
    "dataset1.to_parquet(dataset1FileName,engine='fastparquet',compression='GZIP',append=False)"
   ]
  },
  {
   "cell_type": "code",
   "execution_count": 13,
   "metadata": {},
   "outputs": [
    {
     "name": "stdout",
     "output_type": "stream",
     "text": [
      "           x         y\n",
      "0  -2.326348  0.053304\n",
      "1  -2.279351  0.059397\n",
      "2  -2.232354  0.066040\n",
      "3  -2.185357  0.073264\n",
      "4  -2.138360  0.081099\n",
      "..       ...       ...\n",
      "95  2.138360  0.081099\n",
      "96  2.185357  0.073264\n",
      "97  2.232354  0.066040\n",
      "98  2.279351  0.059397\n",
      "99  2.326348  0.053304\n",
      "\n",
      "[100 rows x 2 columns]\n"
     ]
    }
   ],
   "source": [
    "item0 = datalayer.Measurements.getDocuments(projectName=projectName,loc=0,scale=1)[0]\n",
    "dataset1FromDB = item0.getData().compute()\n",
    "print(dataset1FromDB)"
   ]
  },
  {
   "cell_type": "markdown",
   "metadata": {},
   "source": [
    "# Updating the metadata. \n",
    "\n",
    "Lets assume we want to add another property to the first record. \n",
    "To so we wiill no update item0"
   ]
  },
  {
   "cell_type": "code",
   "execution_count": 14,
   "metadata": {},
   "outputs": [
    {
     "data": {
      "text/plain": [
       "<Measurements: Measurements object>"
      ]
     },
     "execution_count": 14,
     "metadata": {},
     "output_type": "execute_result"
    }
   ],
   "source": [
    "item0.desc['new_attribute'] = \"some data\"\n",
    "item0.save()"
   ]
  },
  {
   "cell_type": "code",
   "execution_count": 15,
   "metadata": {},
   "outputs": [
    {
     "name": "stdout",
     "output_type": "stream",
     "text": [
      "{\n",
      "    \"loc\": 0,\n",
      "    \"new_attribute\": \"some data\",\n",
      "    \"scale\": 1\n",
      "}\n"
     ]
    }
   ],
   "source": [
    "item0_fromdb = datalayer.Measurements.getDocuments(projectName=projectName,loc=0,scale=1)[0]\n",
    "print(json.dumps(item0_fromdb.desc, indent=4, sort_keys=True))"
   ]
  },
  {
   "cell_type": "markdown",
   "metadata": {},
   "source": [
    "# Using Project \n",
    "\n",
    "Using the Project class simplifies the access to the different documents of the project. \n",
    "\n",
    "Define the project with "
   ]
  },
  {
   "cell_type": "code",
   "execution_count": 16,
   "metadata": {},
   "outputs": [
    {
     "data": {
      "text/plain": [
       "<hera.datalayer.collection.Simulations_Collection at 0x7f33121e1850>"
      ]
     },
     "execution_count": 16,
     "metadata": {},
     "output_type": "execute_result"
    }
   ],
   "source": [
    "from hera.datalayer import Project \n",
    "\n",
    "p = Project(projectName=projectName)\n",
    "\n",
    "p.simulations"
   ]
  },
  {
   "cell_type": "markdown",
   "metadata": {},
   "source": [
    "# Deleting the metadata entry. \n",
    "\n",
    "We delete the metadata records similarly to the way we add them\n",
    "\n",
    "The following will delete one record"
   ]
  },
  {
   "cell_type": "code",
   "execution_count": 17,
   "metadata": {},
   "outputs": [
    {
     "name": "stdout",
     "output_type": "stream",
     "text": [
      "The deleted document\n",
      "{\n",
      "    \"_cls\": \"Metadata.Measurements\",\n",
      "    \"_id\": {\n",
      "        \"$oid\": \"5f94746ee237c0d05009d411\"\n",
      "    },\n",
      "    \"dataFormat\": \"parquet\",\n",
      "    \"desc\": {\n",
      "        \"loc\": 0.5,\n",
      "        \"scale\": 0.5\n",
      "    },\n",
      "    \"projectName\": \"ExampleProject\",\n",
      "    \"resource\": \"/home/yehuda/Development/Hera/hera/doc/source/dataset3.parquet\",\n",
      "    \"type\": \"Distribution\"\n",
      "}\n"
     ]
    }
   ],
   "source": [
    "docdict = datalayer.Measurements.deleteDocuments(projectName=projectName,loc=0.5,scale=0.5)\n",
    "print(\"The deleted document\")\n",
    "print(json.dumps(docdict[0], indent=4, sort_keys=True))"
   ]
  },
  {
   "cell_type": "markdown",
   "metadata": {},
   "source": [
    "Now we can erase the file from the disk. It is saved in the resource property "
   ]
  },
  {
   "cell_type": "code",
   "execution_count": 18,
   "metadata": {},
   "outputs": [],
   "source": [
    "import shutil \n",
    "\n",
    "if os.path.isfile(docdict[0]['resource']):\n",
    "      os.remove(docdict[0]['resource'])\n",
    "else: \n",
    "    shutil.rmtree(docdict[0]['resource'])"
   ]
  },
  {
   "cell_type": "markdown",
   "metadata": {},
   "source": [
    "Now, we can delete several documents"
   ]
  },
  {
   "cell_type": "code",
   "execution_count": 19,
   "metadata": {},
   "outputs": [],
   "source": [
    "docdictList = datalayer.Measurements.deleteDocuments(projectName=projectName,loc=0)\n",
    "\n",
    "for doc in docdictList:\n",
    "    if os.path.isfile(doc['resource']):\n",
    "        os.remove(doc['resource'])\n",
    "    else: \n",
    "        shutil.rmtree(doc['resource'])\n"
   ]
  },
  {
   "cell_type": "markdown",
   "metadata": {},
   "source": [
    "Using the project allows getting documents "
   ]
  },
  {
   "cell_type": "code",
   "execution_count": null,
   "metadata": {},
   "outputs": [],
   "source": []
  }
 ],
 "metadata": {
  "kernelspec": {
   "display_name": "Python 3",
   "language": "python",
   "name": "python3"
  },
  "language_info": {
   "codemirror_mode": {
    "name": "ipython",
    "version": 3
   },
   "file_extension": ".py",
   "mimetype": "text/x-python",
   "name": "python",
   "nbconvert_exporter": "python",
   "pygments_lexer": "ipython3",
   "version": "3.8.6"
  }
 },
 "nbformat": 4,
 "nbformat_minor": 4
}
